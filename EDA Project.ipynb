{
 "cells": [
  {
   "cell_type": "markdown",
   "metadata": {},
   "source": [
    "# <CENTER>EDA Project"
   ]
  },
  {
   "cell_type": "markdown",
   "metadata": {},
   "source": [
    "<div style=\"border-bottom: 1px dashed #fff;\"></div>"
   ]
  },
  {
   "cell_type": "markdown",
   "metadata": {},
   "source": [
    "<CENTER><font color=\"GOLD\" size=35><B>AMAZON PRODUCT SALES ANALYSIS"
   ]
  },
  {
   "cell_type": "markdown",
   "metadata": {},
   "source": [
    "---"
   ]
  },
  {
   "cell_type": "markdown",
   "metadata": {},
   "source": [
    "# <B> TABLE OF CONTENT </b>\n",
    "- Data Collection\n",
    "\n",
    "- Data Inspection \n",
    "  - (shape,dtypes,content) for basic understanding\n",
    "  - checking for missing values,outliers and any data quality issues\n",
    "  \n",
    "- Data Cleaning\n",
    "  - Handling Missing values\n",
    "    - Remove rows/columns with grater than 70% missing values if neccessary\n",
    "\n",
    "    - Fill null values with 0\n",
    "    \n",
    "    - Impute/replace null values using methods like mean, median,mode or more advanced techniques\n",
    "\n",
    "  - Remove Duplicates\n",
    "    - Identify and remove duplicates\n",
    "\n",
    "- Data Transformation\n",
    "\n",
    "  - Convert Data Types\n",
    "    - Ensure that each column has correct data types\n",
    "\n",
    "  - Feature Scalling\n",
    "    - Standardize and normalize numerical features to ensure they have simialr scales\n",
    "\n",
    "  - Feature Engineering\n",
    "    - Create new features that may be more informative for the analysis or modelling\n",
    "    - Transform existing features\n",
    "  \n",
    "- Data Visualization\n",
    "  - EDA\n",
    "    - Uni-variate analysis\n",
    "    - Bi-variate analysis\n",
    "    - Multi-variate analysis\n",
    "    - Summary statisctis\n",
    "    - Visualizations\n",
    "    - Insighs\n",
    "\n",
    "- Distribution\n",
    "- Hypothesis Testing\n",
    "- Conclusion\n"
   ]
  },
  {
   "cell_type": "markdown",
   "metadata": {},
   "source": [
    "---"
   ]
  },
  {
   "cell_type": "markdown",
   "metadata": {
    "jp-MarkdownHeadingCollapsed": true
   },
   "source": [
    "### <B>REQUIRED LIBRARIES"
   ]
  },
  {
   "cell_type": "code",
   "execution_count": 2,
   "metadata": {
    "scrolled": true
   },
   "outputs": [
    {
     "name": "stdout",
     "output_type": "stream",
     "text": [
      "Collecting pandas\n",
      "  Downloading pandas-2.2.3-cp313-cp313-win_amd64.whl.metadata (19 kB)\n",
      "Collecting numpy>=1.26.0 (from pandas)\n",
      "  Downloading numpy-2.2.0-cp313-cp313-win_amd64.whl.metadata (60 kB)\n",
      "Requirement already satisfied: python-dateutil>=2.8.2 in c:\\users\\sushm\\appdata\\local\\programs\\python\\python313\\lib\\site-packages (from pandas) (2.9.0.post0)\n",
      "Collecting pytz>=2020.1 (from pandas)\n",
      "  Downloading pytz-2024.2-py2.py3-none-any.whl.metadata (22 kB)\n",
      "Collecting tzdata>=2022.7 (from pandas)\n",
      "  Downloading tzdata-2024.2-py2.py3-none-any.whl.metadata (1.4 kB)\n",
      "Requirement already satisfied: six>=1.5 in c:\\users\\sushm\\appdata\\local\\programs\\python\\python313\\lib\\site-packages (from python-dateutil>=2.8.2->pandas) (1.17.0)\n",
      "Downloading pandas-2.2.3-cp313-cp313-win_amd64.whl (11.5 MB)\n",
      "   ---------------------------------------- 0.0/11.5 MB ? eta -:--:--\n",
      "   ----- ---------------------------------- 1.6/11.5 MB 8.7 MB/s eta 0:00:02\n",
      "   ----------------- ---------------------- 5.0/11.5 MB 13.2 MB/s eta 0:00:01\n",
      "   ----------------------------- ---------- 8.4/11.5 MB 14.1 MB/s eta 0:00:01\n",
      "   ------------------------------------ --- 10.5/11.5 MB 13.6 MB/s eta 0:00:01\n",
      "   ---------------------------------------- 11.5/11.5 MB 12.5 MB/s eta 0:00:00\n",
      "Downloading numpy-2.2.0-cp313-cp313-win_amd64.whl (12.6 MB)\n",
      "   ---------------------------------------- 0.0/12.6 MB ? eta -:--:--\n",
      "   --------- ------------------------------ 3.1/12.6 MB 14.8 MB/s eta 0:00:01\n",
      "   ------------------- -------------------- 6.3/12.6 MB 14.7 MB/s eta 0:00:01\n",
      "   ----------------------------- ---------- 9.4/12.6 MB 14.6 MB/s eta 0:00:01\n",
      "   ----------------------------- ---------- 9.4/12.6 MB 14.6 MB/s eta 0:00:01\n",
      "   ------------------------------------ --- 11.5/12.6 MB 10.7 MB/s eta 0:00:01\n",
      "   ---------------------------------------- 12.6/12.6 MB 10.3 MB/s eta 0:00:00\n",
      "Downloading pytz-2024.2-py2.py3-none-any.whl (508 kB)\n",
      "Downloading tzdata-2024.2-py2.py3-none-any.whl (346 kB)\n",
      "Installing collected packages: pytz, tzdata, numpy, pandas\n",
      "Successfully installed numpy-2.2.0 pandas-2.2.3 pytz-2024.2 tzdata-2024.2\n"
     ]
    }
   ],
   "source": [
    "!pip install pandas\n"
   ]
  },
  {
   "cell_type": "code",
   "execution_count": 6,
   "metadata": {},
   "outputs": [
    {
     "name": "stdout",
     "output_type": "stream",
     "text": [
      "Requirement already satisfied: matplotlib in c:\\users\\sushm\\appdata\\local\\programs\\python\\python313\\lib\\site-packages (3.9.4)\n",
      "Requirement already satisfied: contourpy>=1.0.1 in c:\\users\\sushm\\appdata\\local\\programs\\python\\python313\\lib\\site-packages (from matplotlib) (1.3.1)\n",
      "Requirement already satisfied: cycler>=0.10 in c:\\users\\sushm\\appdata\\local\\programs\\python\\python313\\lib\\site-packages (from matplotlib) (0.12.1)\n",
      "Requirement already satisfied: fonttools>=4.22.0 in c:\\users\\sushm\\appdata\\local\\programs\\python\\python313\\lib\\site-packages (from matplotlib) (4.55.3)\n",
      "Requirement already satisfied: kiwisolver>=1.3.1 in c:\\users\\sushm\\appdata\\local\\programs\\python\\python313\\lib\\site-packages (from matplotlib) (1.4.7)\n",
      "Requirement already satisfied: numpy>=1.23 in c:\\users\\sushm\\appdata\\local\\programs\\python\\python313\\lib\\site-packages (from matplotlib) (2.2.0)\n",
      "Requirement already satisfied: packaging>=20.0 in c:\\users\\sushm\\appdata\\local\\programs\\python\\python313\\lib\\site-packages (from matplotlib) (24.2)\n",
      "Requirement already satisfied: pillow>=8 in c:\\users\\sushm\\appdata\\local\\programs\\python\\python313\\lib\\site-packages (from matplotlib) (11.0.0)\n",
      "Requirement already satisfied: pyparsing>=2.3.1 in c:\\users\\sushm\\appdata\\local\\programs\\python\\python313\\lib\\site-packages (from matplotlib) (3.2.0)\n",
      "Requirement already satisfied: python-dateutil>=2.7 in c:\\users\\sushm\\appdata\\local\\programs\\python\\python313\\lib\\site-packages (from matplotlib) (2.9.0.post0)\n",
      "Requirement already satisfied: six>=1.5 in c:\\users\\sushm\\appdata\\local\\programs\\python\\python313\\lib\\site-packages (from python-dateutil>=2.7->matplotlib) (1.17.0)\n"
     ]
    }
   ],
   "source": [
    "!pip install matplotlib\n"
   ]
  },
  {
   "cell_type": "code",
   "execution_count": 8,
   "metadata": {},
   "outputs": [
    {
     "name": "stdout",
     "output_type": "stream",
     "text": [
      "Collecting seaborn\n",
      "  Downloading seaborn-0.13.2-py3-none-any.whl.metadata (5.4 kB)\n",
      "Requirement already satisfied: matplotlib in c:\\users\\sushm\\appdata\\local\\programs\\python\\python313\\lib\\site-packages (3.9.4)\n",
      "Collecting statistics\n",
      "  Downloading statistics-1.0.3.5.tar.gz (8.3 kB)\n",
      "  Installing build dependencies: started\n",
      "  Installing build dependencies: finished with status 'done'\n",
      "  Getting requirements to build wheel: started\n",
      "  Getting requirements to build wheel: finished with status 'done'\n",
      "  Preparing metadata (pyproject.toml): started\n",
      "  Preparing metadata (pyproject.toml): finished with status 'done'\n",
      "Requirement already satisfied: numpy!=1.24.0,>=1.20 in c:\\users\\sushm\\appdata\\local\\programs\\python\\python313\\lib\\site-packages (from seaborn) (2.2.0)\n",
      "Requirement already satisfied: pandas>=1.2 in c:\\users\\sushm\\appdata\\local\\programs\\python\\python313\\lib\\site-packages (from seaborn) (2.2.3)\n",
      "Requirement already satisfied: contourpy>=1.0.1 in c:\\users\\sushm\\appdata\\local\\programs\\python\\python313\\lib\\site-packages (from matplotlib) (1.3.1)\n",
      "Requirement already satisfied: cycler>=0.10 in c:\\users\\sushm\\appdata\\local\\programs\\python\\python313\\lib\\site-packages (from matplotlib) (0.12.1)\n",
      "Requirement already satisfied: fonttools>=4.22.0 in c:\\users\\sushm\\appdata\\local\\programs\\python\\python313\\lib\\site-packages (from matplotlib) (4.55.3)\n",
      "Requirement already satisfied: kiwisolver>=1.3.1 in c:\\users\\sushm\\appdata\\local\\programs\\python\\python313\\lib\\site-packages (from matplotlib) (1.4.7)\n",
      "Requirement already satisfied: packaging>=20.0 in c:\\users\\sushm\\appdata\\local\\programs\\python\\python313\\lib\\site-packages (from matplotlib) (24.2)\n",
      "Requirement already satisfied: pillow>=8 in c:\\users\\sushm\\appdata\\local\\programs\\python\\python313\\lib\\site-packages (from matplotlib) (11.0.0)\n",
      "Requirement already satisfied: pyparsing>=2.3.1 in c:\\users\\sushm\\appdata\\local\\programs\\python\\python313\\lib\\site-packages (from matplotlib) (3.2.0)\n",
      "Requirement already satisfied: python-dateutil>=2.7 in c:\\users\\sushm\\appdata\\local\\programs\\python\\python313\\lib\\site-packages (from matplotlib) (2.9.0.post0)\n",
      "Collecting docutils>=0.3 (from statistics)\n",
      "  Downloading docutils-0.21.2-py3-none-any.whl.metadata (2.8 kB)\n",
      "Requirement already satisfied: pytz>=2020.1 in c:\\users\\sushm\\appdata\\local\\programs\\python\\python313\\lib\\site-packages (from pandas>=1.2->seaborn) (2024.2)\n",
      "Requirement already satisfied: tzdata>=2022.7 in c:\\users\\sushm\\appdata\\local\\programs\\python\\python313\\lib\\site-packages (from pandas>=1.2->seaborn) (2024.2)\n",
      "Requirement already satisfied: six>=1.5 in c:\\users\\sushm\\appdata\\local\\programs\\python\\python313\\lib\\site-packages (from python-dateutil>=2.7->matplotlib) (1.17.0)\n",
      "Downloading seaborn-0.13.2-py3-none-any.whl (294 kB)\n",
      "Downloading docutils-0.21.2-py3-none-any.whl (587 kB)\n",
      "   ---------------------------------------- 0.0/587.4 kB ? eta -:--:--\n",
      "   ---------------------------------------- 587.4/587.4 kB 5.2 MB/s eta 0:00:00\n",
      "Building wheels for collected packages: statistics\n",
      "  Building wheel for statistics (pyproject.toml): started\n",
      "  Building wheel for statistics (pyproject.toml): finished with status 'done'\n",
      "  Created wheel for statistics: filename=statistics-1.0.3.5-py3-none-any.whl size=7451 sha256=a8c17cc96c1e1c90119a042240869e3dd4850dd8fa139823615e252c94ceebc0\n",
      "  Stored in directory: c:\\users\\sushm\\appdata\\local\\pip\\cache\\wheels\\81\\6b\\04\\dd3cc29a5f3bdba002365cb7ddb8ac0e72272099f245740657\n",
      "Successfully built statistics\n",
      "Installing collected packages: docutils, statistics, seaborn\n",
      "Successfully installed docutils-0.21.2 seaborn-0.13.2 statistics-1.0.3.5\n"
     ]
    }
   ],
   "source": [
    "!pip install seaborn matplotlib statistics\n"
   ]
  },
  {
   "cell_type": "code",
   "execution_count": 20,
   "metadata": {},
   "outputs": [],
   "source": [
    "import pandas as pd # used for Data Manuplation and Handling\n",
    "import numpy as np # used for Numerical operations\n",
    "import statistics as stat # used for Statistical Calculations\n",
    "import matplotlib.pyplot as plt # used for plotting graphs(python plotting package)\n",
    "import seaborn as sb # used for visualization"
   ]
  },
  {
   "cell_type": "markdown",
   "metadata": {},
   "source": [
    "."
   ]
  },
  {
   "cell_type": "markdown",
   "metadata": {},
   "source": [
    "---"
   ]
  },
  {
   "cell_type": "markdown",
   "metadata": {},
   "source": [
    "# <font color=\"#FFF\"><B>DATA COLLECTION"
   ]
  },
  {
   "cell_type": "markdown",
   "metadata": {},
   "source": [
    "- Data collected from Kaggle"
   ]
  },
  {
   "cell_type": "markdown",
   "metadata": {},
   "source": [
    "### IMPORTING DATA SET USING ITS PATH"
   ]
  },
  {
   "cell_type": "code",
   "execution_count": 21,
   "metadata": {},
   "outputs": [],
   "source": [
    "path = \"C:\\\\Users\\\\sushm\\\\OneDrive\\\\Desktop\\\\Projects\\\\Amazon-Products_EDA\\\\Amazon-Products.csv\"\n",
    "pd.set_option('display.expand_frame_repr', False)\n",
    "data = pd.read_csv(path, low_memory = False)"
   ]
  },
  {
   "cell_type": "markdown",
   "metadata": {},
   "source": [
    "# <font color=\"#FFF\"><B>DATASET WALKTHROUGH"
   ]
  },
  {
   "cell_type": "code",
   "execution_count": 22,
   "metadata": {},
   "outputs": [
    {
     "data": {
      "text/html": [
       "<div>\n",
       "<style scoped>\n",
       "    .dataframe tbody tr th:only-of-type {\n",
       "        vertical-align: middle;\n",
       "    }\n",
       "\n",
       "    .dataframe tbody tr th {\n",
       "        vertical-align: top;\n",
       "    }\n",
       "\n",
       "    .dataframe thead th {\n",
       "        text-align: right;\n",
       "    }\n",
       "</style>\n",
       "<table border=\"1\" class=\"dataframe\">\n",
       "  <thead>\n",
       "    <tr style=\"text-align: right;\">\n",
       "      <th></th>\n",
       "      <th>Unnamed: 0</th>\n",
       "      <th>name</th>\n",
       "      <th>main_category</th>\n",
       "      <th>sub_category</th>\n",
       "      <th>image</th>\n",
       "      <th>link</th>\n",
       "      <th>ratings</th>\n",
       "      <th>no_of_ratings</th>\n",
       "      <th>discount_price</th>\n",
       "      <th>actual_price</th>\n",
       "    </tr>\n",
       "  </thead>\n",
       "  <tbody>\n",
       "    <tr>\n",
       "      <th>0</th>\n",
       "      <td>0</td>\n",
       "      <td>Lloyd 1.5 Ton 3 Star Inverter Split Ac (5 In 1...</td>\n",
       "      <td>appliances</td>\n",
       "      <td>Air Conditioners</td>\n",
       "      <td>https://m.media-amazon.com/images/I/31UISB90sY...</td>\n",
       "      <td>https://www.amazon.in/Lloyd-Inverter-Convertib...</td>\n",
       "      <td>4.2</td>\n",
       "      <td>2,255</td>\n",
       "      <td>₹32,999</td>\n",
       "      <td>₹58,990</td>\n",
       "    </tr>\n",
       "    <tr>\n",
       "      <th>1</th>\n",
       "      <td>1</td>\n",
       "      <td>LG 1.5 Ton 5 Star AI DUAL Inverter Split AC (C...</td>\n",
       "      <td>appliances</td>\n",
       "      <td>Air Conditioners</td>\n",
       "      <td>https://m.media-amazon.com/images/I/51JFb7FctD...</td>\n",
       "      <td>https://www.amazon.in/LG-Convertible-Anti-Viru...</td>\n",
       "      <td>4.2</td>\n",
       "      <td>2,948</td>\n",
       "      <td>₹46,490</td>\n",
       "      <td>₹75,990</td>\n",
       "    </tr>\n",
       "    <tr>\n",
       "      <th>2</th>\n",
       "      <td>2</td>\n",
       "      <td>LG 1 Ton 4 Star Ai Dual Inverter Split Ac (Cop...</td>\n",
       "      <td>appliances</td>\n",
       "      <td>Air Conditioners</td>\n",
       "      <td>https://m.media-amazon.com/images/I/51JFb7FctD...</td>\n",
       "      <td>https://www.amazon.in/LG-Inverter-Convertible-...</td>\n",
       "      <td>4.2</td>\n",
       "      <td>1,206</td>\n",
       "      <td>₹34,490</td>\n",
       "      <td>₹61,990</td>\n",
       "    </tr>\n",
       "    <tr>\n",
       "      <th>3</th>\n",
       "      <td>3</td>\n",
       "      <td>LG 1.5 Ton 3 Star AI DUAL Inverter Split AC (C...</td>\n",
       "      <td>appliances</td>\n",
       "      <td>Air Conditioners</td>\n",
       "      <td>https://m.media-amazon.com/images/I/51JFb7FctD...</td>\n",
       "      <td>https://www.amazon.in/LG-Convertible-Anti-Viru...</td>\n",
       "      <td>4.0</td>\n",
       "      <td>69</td>\n",
       "      <td>₹37,990</td>\n",
       "      <td>₹68,990</td>\n",
       "    </tr>\n",
       "    <tr>\n",
       "      <th>4</th>\n",
       "      <td>4</td>\n",
       "      <td>Carrier 1.5 Ton 3 Star Inverter Split AC (Copp...</td>\n",
       "      <td>appliances</td>\n",
       "      <td>Air Conditioners</td>\n",
       "      <td>https://m.media-amazon.com/images/I/41lrtqXPiW...</td>\n",
       "      <td>https://www.amazon.in/Carrier-Inverter-Split-C...</td>\n",
       "      <td>4.1</td>\n",
       "      <td>630</td>\n",
       "      <td>₹34,490</td>\n",
       "      <td>₹67,790</td>\n",
       "    </tr>\n",
       "  </tbody>\n",
       "</table>\n",
       "</div>"
      ],
      "text/plain": [
       "   Unnamed: 0                                               name main_category      sub_category                                              image                                               link ratings no_of_ratings discount_price actual_price\n",
       "0           0  Lloyd 1.5 Ton 3 Star Inverter Split Ac (5 In 1...    appliances  Air Conditioners  https://m.media-amazon.com/images/I/31UISB90sY...  https://www.amazon.in/Lloyd-Inverter-Convertib...     4.2         2,255        ₹32,999      ₹58,990\n",
       "1           1  LG 1.5 Ton 5 Star AI DUAL Inverter Split AC (C...    appliances  Air Conditioners  https://m.media-amazon.com/images/I/51JFb7FctD...  https://www.amazon.in/LG-Convertible-Anti-Viru...     4.2         2,948        ₹46,490      ₹75,990\n",
       "2           2  LG 1 Ton 4 Star Ai Dual Inverter Split Ac (Cop...    appliances  Air Conditioners  https://m.media-amazon.com/images/I/51JFb7FctD...  https://www.amazon.in/LG-Inverter-Convertible-...     4.2         1,206        ₹34,490      ₹61,990\n",
       "3           3  LG 1.5 Ton 3 Star AI DUAL Inverter Split AC (C...    appliances  Air Conditioners  https://m.media-amazon.com/images/I/51JFb7FctD...  https://www.amazon.in/LG-Convertible-Anti-Viru...     4.0            69        ₹37,990      ₹68,990\n",
       "4           4  Carrier 1.5 Ton 3 Star Inverter Split AC (Copp...    appliances  Air Conditioners  https://m.media-amazon.com/images/I/41lrtqXPiW...  https://www.amazon.in/Carrier-Inverter-Split-C...     4.1           630        ₹34,490      ₹67,790"
      ]
     },
     "execution_count": 22,
     "metadata": {},
     "output_type": "execute_result"
    }
   ],
   "source": [
    "data.head(5)"
   ]
  },
  {
   "cell_type": "markdown",
   "metadata": {},
   "source": [
    "---"
   ]
  },
  {
   "cell_type": "markdown",
   "metadata": {},
   "source": [
    "# <font color=\"#FFF\"><B>DATA INSPECTION"
   ]
  },
  {
   "cell_type": "markdown",
   "metadata": {},
   "source": [
    "### To find number of rows in the data set"
   ]
  },
  {
   "cell_type": "code",
   "execution_count": 28,
   "metadata": {},
   "outputs": [
    {
     "data": {
      "text/plain": [
       "551585"
      ]
     },
     "execution_count": 28,
     "metadata": {},
     "output_type": "execute_result"
    }
   ],
   "source": [
    "data.shape[0]"
   ]
  },
  {
   "cell_type": "markdown",
   "metadata": {},
   "source": [
    "<div style=\"border-bottom: 1px dashed #fff;\"></div>"
   ]
  },
  {
   "cell_type": "markdown",
   "metadata": {},
   "source": [
    "### To find number of columns in the dataset"
   ]
  },
  {
   "cell_type": "code",
   "execution_count": 29,
   "metadata": {},
   "outputs": [
    {
     "data": {
      "text/plain": [
       "10"
      ]
     },
     "execution_count": 29,
     "metadata": {},
     "output_type": "execute_result"
    }
   ],
   "source": [
    "data.shape[1]"
   ]
  },
  {
   "cell_type": "markdown",
   "metadata": {},
   "source": [
    "<div style=\"border-bottom: 1px dashed #fff;\"></div>"
   ]
  },
  {
   "cell_type": "markdown",
   "metadata": {},
   "source": [
    "<font color=\"orange\"> <b>1. What is the size if the data set?</font><br><br>\n",
    "<font color=\"white\"> A. size of the data set is 551585 * 10"
   ]
  },
  {
   "cell_type": "markdown",
   "metadata": {},
   "source": [
    "<div style=\"border-bottom: 1px dashed #fff;\"></div>"
   ]
  },
  {
   "cell_type": "markdown",
   "metadata": {},
   "source": [
    "### What is the structure and integrity of the dataset?"
   ]
  },
  {
   "cell_type": "code",
   "execution_count": 26,
   "metadata": {},
   "outputs": [
    {
     "name": "stdout",
     "output_type": "stream",
     "text": [
      "<class 'pandas.core.frame.DataFrame'>\n",
      "RangeIndex: 551585 entries, 0 to 551584\n",
      "Data columns (total 10 columns):\n",
      " #   Column          Non-Null Count   Dtype \n",
      "---  ------          --------------   ----- \n",
      " 0   Unnamed: 0      551585 non-null  int64 \n",
      " 1   name            551585 non-null  object\n",
      " 2   main_category   551585 non-null  object\n",
      " 3   sub_category    551585 non-null  object\n",
      " 4   image           551585 non-null  object\n",
      " 5   link            551585 non-null  object\n",
      " 6   ratings         375791 non-null  object\n",
      " 7   no_of_ratings   375791 non-null  object\n",
      " 8   discount_price  490422 non-null  object\n",
      " 9   actual_price    533772 non-null  object\n",
      "dtypes: int64(1), object(9)\n",
      "memory usage: 42.1+ MB\n"
     ]
    }
   ],
   "source": [
    "data.info()"
   ]
  },
  {
   "cell_type": "markdown",
   "metadata": {},
   "source": [
    "- <font color=\"orange\"><b>we can see some missing values in discount_price, actual_price, ratings, no_of_ratings "
   ]
  },
  {
   "cell_type": "markdown",
   "metadata": {},
   "source": [
    "<div style=\"border-bottom: 1px dashed #fff;\"></div>"
   ]
  },
  {
   "cell_type": "markdown",
   "metadata": {},
   "source": [
    "### To display column names of the dataset"
   ]
  },
  {
   "cell_type": "code",
   "execution_count": 30,
   "metadata": {},
   "outputs": [
    {
     "data": {
      "text/plain": [
       "Index(['Unnamed: 0', 'name', 'main_category', 'sub_category', 'image', 'link',\n",
       "       'ratings', 'no_of_ratings', 'discount_price', 'actual_price'],\n",
       "      dtype='object')"
      ]
     },
     "execution_count": 30,
     "metadata": {},
     "output_type": "execute_result"
    }
   ],
   "source": [
    "# Showing columns\n",
    "data.columns"
   ]
  },
  {
   "cell_type": "markdown",
   "metadata": {},
   "source": [
    "<div style=\"border-bottom: 1px dashed #fff;\"></div>"
   ]
  },
  {
   "cell_type": "markdown",
   "metadata": {},
   "source": [
    "# <font color='#FFF'><B>UNDERSTANDING DATASET"
   ]
  },
  {
   "cell_type": "markdown",
   "metadata": {},
   "source": [
    "### To display statistical values of the dataset"
   ]
  },
  {
   "cell_type": "code",
   "execution_count": 31,
   "metadata": {},
   "outputs": [
    {
     "data": {
      "text/html": [
       "<div>\n",
       "<style scoped>\n",
       "    .dataframe tbody tr th:only-of-type {\n",
       "        vertical-align: middle;\n",
       "    }\n",
       "\n",
       "    .dataframe tbody tr th {\n",
       "        vertical-align: top;\n",
       "    }\n",
       "\n",
       "    .dataframe thead th {\n",
       "        text-align: right;\n",
       "    }\n",
       "</style>\n",
       "<table border=\"1\" class=\"dataframe\">\n",
       "  <thead>\n",
       "    <tr style=\"text-align: right;\">\n",
       "      <th></th>\n",
       "      <th>Unnamed: 0</th>\n",
       "    </tr>\n",
       "  </thead>\n",
       "  <tbody>\n",
       "    <tr>\n",
       "      <th>count</th>\n",
       "      <td>551585.000000</td>\n",
       "    </tr>\n",
       "    <tr>\n",
       "      <th>mean</th>\n",
       "      <td>7006.200471</td>\n",
       "    </tr>\n",
       "    <tr>\n",
       "      <th>std</th>\n",
       "      <td>5740.835523</td>\n",
       "    </tr>\n",
       "    <tr>\n",
       "      <th>min</th>\n",
       "      <td>0.000000</td>\n",
       "    </tr>\n",
       "    <tr>\n",
       "      <th>25%</th>\n",
       "      <td>1550.000000</td>\n",
       "    </tr>\n",
       "    <tr>\n",
       "      <th>50%</th>\n",
       "      <td>5933.000000</td>\n",
       "    </tr>\n",
       "    <tr>\n",
       "      <th>75%</th>\n",
       "      <td>11482.000000</td>\n",
       "    </tr>\n",
       "    <tr>\n",
       "      <th>max</th>\n",
       "      <td>19199.000000</td>\n",
       "    </tr>\n",
       "  </tbody>\n",
       "</table>\n",
       "</div>"
      ],
      "text/plain": [
       "          Unnamed: 0\n",
       "count  551585.000000\n",
       "mean     7006.200471\n",
       "std      5740.835523\n",
       "min         0.000000\n",
       "25%      1550.000000\n",
       "50%      5933.000000\n",
       "75%     11482.000000\n",
       "max     19199.000000"
      ]
     },
     "execution_count": 31,
     "metadata": {},
     "output_type": "execute_result"
    }
   ],
   "source": [
    "data.describe()"
   ]
  },
  {
   "cell_type": "markdown",
   "metadata": {},
   "source": [
    "- showing only for unnamed column because the data set contains only one numerical column rest are set to object type. we need to change them in data tranformation part"
   ]
  },
  {
   "cell_type": "markdown",
   "metadata": {},
   "source": [
    "<div style=\"border-bottom: 1px dashed #fff;\"></div>"
   ]
  },
  {
   "cell_type": "markdown",
   "metadata": {},
   "source": [
    "### To display first 2 rows of the data set"
   ]
  },
  {
   "cell_type": "code",
   "execution_count": 32,
   "metadata": {},
   "outputs": [
    {
     "data": {
      "text/html": [
       "<div>\n",
       "<style scoped>\n",
       "    .dataframe tbody tr th:only-of-type {\n",
       "        vertical-align: middle;\n",
       "    }\n",
       "\n",
       "    .dataframe tbody tr th {\n",
       "        vertical-align: top;\n",
       "    }\n",
       "\n",
       "    .dataframe thead th {\n",
       "        text-align: right;\n",
       "    }\n",
       "</style>\n",
       "<table border=\"1\" class=\"dataframe\">\n",
       "  <thead>\n",
       "    <tr style=\"text-align: right;\">\n",
       "      <th></th>\n",
       "      <th>Unnamed: 0</th>\n",
       "      <th>name</th>\n",
       "      <th>main_category</th>\n",
       "      <th>sub_category</th>\n",
       "      <th>image</th>\n",
       "      <th>link</th>\n",
       "      <th>ratings</th>\n",
       "      <th>no_of_ratings</th>\n",
       "      <th>discount_price</th>\n",
       "      <th>actual_price</th>\n",
       "    </tr>\n",
       "  </thead>\n",
       "  <tbody>\n",
       "    <tr>\n",
       "      <th>0</th>\n",
       "      <td>0</td>\n",
       "      <td>Lloyd 1.5 Ton 3 Star Inverter Split Ac (5 In 1...</td>\n",
       "      <td>appliances</td>\n",
       "      <td>Air Conditioners</td>\n",
       "      <td>https://m.media-amazon.com/images/I/31UISB90sY...</td>\n",
       "      <td>https://www.amazon.in/Lloyd-Inverter-Convertib...</td>\n",
       "      <td>4.2</td>\n",
       "      <td>2,255</td>\n",
       "      <td>₹32,999</td>\n",
       "      <td>₹58,990</td>\n",
       "    </tr>\n",
       "    <tr>\n",
       "      <th>1</th>\n",
       "      <td>1</td>\n",
       "      <td>LG 1.5 Ton 5 Star AI DUAL Inverter Split AC (C...</td>\n",
       "      <td>appliances</td>\n",
       "      <td>Air Conditioners</td>\n",
       "      <td>https://m.media-amazon.com/images/I/51JFb7FctD...</td>\n",
       "      <td>https://www.amazon.in/LG-Convertible-Anti-Viru...</td>\n",
       "      <td>4.2</td>\n",
       "      <td>2,948</td>\n",
       "      <td>₹46,490</td>\n",
       "      <td>₹75,990</td>\n",
       "    </tr>\n",
       "  </tbody>\n",
       "</table>\n",
       "</div>"
      ],
      "text/plain": [
       "   Unnamed: 0                                               name main_category      sub_category                                              image                                               link ratings no_of_ratings discount_price actual_price\n",
       "0           0  Lloyd 1.5 Ton 3 Star Inverter Split Ac (5 In 1...    appliances  Air Conditioners  https://m.media-amazon.com/images/I/31UISB90sY...  https://www.amazon.in/Lloyd-Inverter-Convertib...     4.2         2,255        ₹32,999      ₹58,990\n",
       "1           1  LG 1.5 Ton 5 Star AI DUAL Inverter Split AC (C...    appliances  Air Conditioners  https://m.media-amazon.com/images/I/51JFb7FctD...  https://www.amazon.in/LG-Convertible-Anti-Viru...     4.2         2,948        ₹46,490      ₹75,990"
      ]
     },
     "execution_count": 32,
     "metadata": {},
     "output_type": "execute_result"
    }
   ],
   "source": [
    "# First 2 rows in the data\n",
    "data.head(2)\n"
   ]
  },
  {
   "cell_type": "markdown",
   "metadata": {},
   "source": [
    "---"
   ]
  },
  {
   "cell_type": "markdown",
   "metadata": {},
   "source": [
    "# <font color=\"#fff\"><b> DATA CLEANING"
   ]
  },
  {
   "cell_type": "markdown",
   "metadata": {},
   "source": [
    "### Dropping unneccesary columns"
   ]
  },
  {
   "cell_type": "markdown",
   "metadata": {},
   "source": [
    "- <font color=\"orange\">we don't want image and link columns for analysis so we can remove them"
   ]
  },
  {
   "cell_type": "code",
   "execution_count": 33,
   "metadata": {},
   "outputs": [],
   "source": [
    "columns_to_drop = ['image','link']\n",
    "data =data.drop(columns=columns_to_drop)"
   ]
  },
  {
   "cell_type": "markdown",
   "metadata": {},
   "source": [
    "- <font color=\"orange\">we can see that Unamed: 0 columns just shows index, so it is useless, we can delete this one also"
   ]
  },
  {
   "cell_type": "code",
   "execution_count": 34,
   "metadata": {},
   "outputs": [],
   "source": [
    "del data['Unnamed: 0'] # data.drop(columns='Unnamed: 0',inplace= True)"
   ]
  },
  {
   "cell_type": "markdown",
   "metadata": {},
   "source": [
    "## <font color=\"#fff\"><b>Now required data is there , lets check the dtypes"
   ]
  },
  {
   "cell_type": "markdown",
   "metadata": {},
   "source": [
    "---"
   ]
  },
  {
   "cell_type": "code",
   "execution_count": 35,
   "metadata": {},
   "outputs": [
    {
     "name": "stdout",
     "output_type": "stream",
     "text": [
      "<class 'pandas.core.frame.DataFrame'>\n",
      "RangeIndex: 551585 entries, 0 to 551584\n",
      "Data columns (total 7 columns):\n",
      " #   Column          Non-Null Count   Dtype \n",
      "---  ------          --------------   ----- \n",
      " 0   name            551585 non-null  object\n",
      " 1   main_category   551585 non-null  object\n",
      " 2   sub_category    551585 non-null  object\n",
      " 3   ratings         375791 non-null  object\n",
      " 4   no_of_ratings   375791 non-null  object\n",
      " 5   discount_price  490422 non-null  object\n",
      " 6   actual_price    533772 non-null  object\n",
      "dtypes: object(7)\n",
      "memory usage: 29.5+ MB\n"
     ]
    }
   ],
   "source": [
    "data.info() # info about column names,non null values,DTYPES"
   ]
  },
  {
   "cell_type": "code",
   "execution_count": 36,
   "metadata": {},
   "outputs": [
    {
     "data": {
      "text/plain": [
       "name                   0\n",
       "main_category          0\n",
       "sub_category           0\n",
       "ratings           175794\n",
       "no_of_ratings     175794\n",
       "discount_price     61163\n",
       "actual_price       17813\n",
       "dtype: int64"
      ]
     },
     "execution_count": 36,
     "metadata": {},
     "output_type": "execute_result"
    }
   ],
   "source": [
    "data.isnull().sum()"
   ]
  },
  {
   "cell_type": "markdown",
   "metadata": {},
   "source": [
    "<p><font color=\"orange\"><b>\n",
    "\n",
    "- <p><font color=\"orange\"><b>We can see that all the columns are in string format, it is an error that ratings, no.of ratings, discount_price, actual_price must be in numerical values\n",
    "- <p><font color=\"orange\"><b>And one more thing is difference in non null values in column\n",
    "- <p><font color=\"orange\"><b>Lets change them"
   ]
  },
  {
   "cell_type": "markdown",
   "metadata": {},
   "source": [
    "## Displaying Missing values"
   ]
  },
  {
   "cell_type": "code",
   "execution_count": 37,
   "metadata": {},
   "outputs": [],
   "source": [
    "missing_values= data.isnull().sum()"
   ]
  },
  {
   "cell_type": "code",
   "execution_count": 40,
   "metadata": {},
   "outputs": [
    {
     "data": {
      "image/png": "[encoded data removed]",
      "text/plain": [
       "<Figure size 1000x600 with 1 Axes>"
      ]
     },
     "metadata": {},
     "output_type": "display_data"
    }
   ],
   "source": [
    "plt.figure(figsize=(10, 6))\n",
    "plt.bar(missing_values.index, missing_values.values, color='red')\n",
    "plt.xlabel('Variables')\n",
    "plt.ylabel('Number of Missing Values')\n",
    "plt.title('Missing Values in Dataset')\n",
    "plt.xticks(rotation=45, ha='right') \n",
    "plt.show()"
   ]
  },
  {
   "cell_type": "markdown",
   "metadata": {},
   "source": [
    "---"
   ]
  },
  {
   "cell_type": "markdown",
   "metadata": {},
   "source": [
    "# <font color=\"#fff\"><B> Handling Null/Missing values"
   ]
  },
  {
   "cell_type": "code",
   "execution_count": 41,
   "metadata": {},
   "outputs": [
    {
     "data": {
      "image/png": "[encoded data removed]",
      "text/plain": [
       "<Figure size 1800x600 with 1 Axes>"
      ]
     },
     "metadata": {},
     "output_type": "display_data"
    }
   ],
   "source": [
    "missing_percentage = (data.isnull().sum() / len(data)) * 100\n",
    "filled_percentage = 100 - missing_percentage\n",
    "\n",
    "\n",
    "plt.figure(figsize=(18, 6))\n",
    "\n",
    "bars1= plt.bar(missing_percentage.index, missing_percentage, label='Missing', color='red')\n",
    "bars2= plt.bar(filled_percentage.index, filled_percentage, bottom=missing_percentage, label='Filled', color='green')\n",
    "\n",
    "plt.xlabel('Variables',fontsize=15)\n",
    "plt.ylabel('Percentage',fontsize=15)\n",
    "plt.title('Stacked Bar Plot of Missing and Filled Values in Dataset')\n",
    "plt.xticks(fontsize=12)\n",
    "plt.legend()\n",
    "\n",
    "for bar1, bar2 in zip(bars1, bars2):\n",
    "    yval = bar1.get_height()\n",
    "    plt.text(bar1.get_x() + bar1.get_width() / 2, yval, f'{yval:.2f}%', ha='center', va='bottom')\n",
    "# \n",
    "for bar1, bar2 in zip(bars1, bars2):\n",
    "    yval = bar2.get_height()\n",
    "    plt.text(bar2.get_x() + bar2.get_width() / 2, yval, f'{yval:.2f}%', ha='center', va='bottom')\n",
    "\n",
    "plt.show()"
   ]
  },
  {
   "cell_type": "markdown",
   "metadata": {},
   "source": [
    "- now we conclude that no column is having 70% missing values"
   ]
  },
  {
   "cell_type": "markdown",
   "metadata": {},
   "source": [
    "# <B> RATINGS"
   ]
  },
  {
   "cell_type": "code",
   "execution_count": null,
   "metadata": {},
   "outputs": [],
   "source": [
    "data['ratings'].unique()"
   ]
  },
  {
   "cell_type": "code",
   "execution_count": 42,
   "metadata": {},
   "outputs": [],
   "source": [
    "replace_dict = {\n",
    "    np.nan:'0',\n",
    "    'Get':'0',\n",
    "    'FREE':'0',\n",
    "    '₹68.99':'0', \n",
    "    '₹65':'0',\n",
    "    '₹70':'0', \n",
    "    '₹100':'0',\n",
    "    '₹99':'0', \n",
    "    '₹2.99':'0'\n",
    "\n",
    "}\n",
    "data['ratings'] = data['ratings'].replace(replace_dict)"
   ]
  },
  {
   "cell_type": "markdown",
   "metadata": {},
   "source": [
    "- <font color=\"orange\">we successfully replace the abnormal values and NAN values to 0"
   ]
  },
  {
   "cell_type": "code",
   "execution_count": 43,
   "metadata": {},
   "outputs": [
    {
     "data": {
      "text/plain": [
       "array(['4.2', '4.0', '4.1', '4.3', '3.9', '3.8', '3.5', '0', '4.6', '3.3',\n",
       "       '3.4', '3.7', '2.9', '5.0', '4.4', '3.6', '2.7', '4.5', '3.0',\n",
       "       '3.1', '3.2', '4.8', '4.7', '2.5', '1.0', '2.6', '2.8', '2.3',\n",
       "       '1.7', '1.8', '2.4', '4.9', '2.2', '1.6', '1.9', '2.0', '1.4',\n",
       "       '2.1', '1.2', '1.3', '1.5', '1.1'], dtype=object)"
      ]
     },
     "execution_count": 43,
     "metadata": {},
     "output_type": "execute_result"
    }
   ],
   "source": [
    "data['ratings'].unique()"
   ]
  },
  {
   "cell_type": "markdown",
   "metadata": {},
   "source": [
    "# <B>NO_OF_RATINGS"
   ]
  },
  {
   "cell_type": "code",
   "execution_count": 44,
   "metadata": {},
   "outputs": [
    {
     "data": {
      "text/plain": [
       "array(['2,255', '2,948', '1,206', ..., '3,329', '7,141', '4,406'],\n",
       "      shape=(8343,), dtype=object)"
      ]
     },
     "execution_count": 44,
     "metadata": {},
     "output_type": "execute_result"
    }
   ],
   "source": [
    "data['no_of_ratings'].unique()"
   ]
  },
  {
   "cell_type": "code",
   "execution_count": 45,
   "metadata": {},
   "outputs": [
    {
     "data": {
      "text/plain": [
       "no_of_ratings\n",
       "False    375791\n",
       "True     175794\n",
       "Name: count, dtype: int64"
      ]
     },
     "execution_count": 45,
     "metadata": {},
     "output_type": "execute_result"
    }
   ],
   "source": [
    "data['no_of_ratings'].isna().value_counts()"
   ]
  },
  {
   "cell_type": "markdown",
   "metadata": {},
   "source": [
    "- <font color=\"orange\">Replacing NAN with 0"
   ]
  },
  {
   "cell_type": "code",
   "execution_count": 46,
   "metadata": {},
   "outputs": [],
   "source": [
    "replace_dict = {\n",
    "    np.nan :\"0\"\n",
    "}\n",
    "\n",
    "data['no_of_ratings']=data['no_of_ratings'].replace(replace_dict)"
   ]
  },
  {
   "cell_type": "markdown",
   "metadata": {},
   "source": [
    "- <font color=\"orange\">we have successfully replace the NAN values with 0"
   ]
  },
  {
   "cell_type": "code",
   "execution_count": 47,
   "metadata": {},
   "outputs": [
    {
     "data": {
      "text/plain": [
       "no_of_ratings\n",
       "False    551585\n",
       "Name: count, dtype: int64"
      ]
     },
     "execution_count": 47,
     "metadata": {},
     "output_type": "execute_result"
    }
   ],
   "source": [
    "data['no_of_ratings'].isna().value_counts()"
   ]
  },
  {
   "cell_type": "markdown",
   "metadata": {},
   "source": [
    "- <p><font color=\"yellow\"><b>Data has been cleaned with out null and abnormal values (replaced with 0 )"
   ]
  },
  {
   "cell_type": "markdown",
   "metadata": {},
   "source": [
    "# <B>DISCOUNT PRICE"
   ]
  },
  {
   "cell_type": "code",
   "execution_count": 48,
   "metadata": {},
   "outputs": [
    {
     "data": {
      "text/plain": [
       "discount_price\n",
       "False    490422\n",
       "True      61163\n",
       "Name: count, dtype: int64"
      ]
     },
     "execution_count": 48,
     "metadata": {},
     "output_type": "execute_result"
    }
   ],
   "source": [
    "data['discount_price'].isna().value_counts()"
   ]
  },
  {
   "cell_type": "markdown",
   "metadata": {},
   "source": [
    "- <font color=\"orange\">Here we can see some null values are there, let us replace with 0 for now"
   ]
  },
  {
   "cell_type": "code",
   "execution_count": 49,
   "metadata": {},
   "outputs": [
    {
     "data": {
      "text/plain": [
       "array(['₹32,999', '₹46,490', '₹34,490', ..., '₹3,712.10', '₹1,429.60',\n",
       "       '₹651.01'], shape=(27512,), dtype=object)"
      ]
     },
     "execution_count": 49,
     "metadata": {},
     "output_type": "execute_result"
    }
   ],
   "source": [
    "data['discount_price'].unique()"
   ]
  },
  {
   "cell_type": "markdown",
   "metadata": {},
   "source": [
    "- <font color=\"orange\">Removing rupees symbol"
   ]
  },
  {
   "cell_type": "code",
   "execution_count": null,
   "metadata": {},
   "outputs": [],
   "source": [
    "data['discount_price']=data['discount_price'].str.replace('[^0-9]', '', regex=True)"
   ]
  },
  {
   "cell_type": "markdown",
   "metadata": {},
   "source": [
    "- <font color=\"orange\">Replacing NAN values with 0.0"
   ]
  },
  {
   "cell_type": "code",
   "execution_count": null,
   "metadata": {},
   "outputs": [],
   "source": [
    "data['discount_price']=data['discount_price'].replace(np.nan,0.0)"
   ]
  },
  {
   "cell_type": "code",
   "execution_count": null,
   "metadata": {},
   "outputs": [],
   "source": [
    "data['discount_price'].isna().value_counts()"
   ]
  },
  {
   "cell_type": "markdown",
   "metadata": {},
   "source": [
    "- <font color = \"yellow\" ><b> Null values are replaced with 0 , now there is no null values</font>"
   ]
  },
  {
   "cell_type": "markdown",
   "metadata": {},
   "source": [
    "# <B>ACTUAL PRICE"
   ]
  },
  {
   "cell_type": "code",
   "execution_count": null,
   "metadata": {},
   "outputs": [],
   "source": [
    "data['actual_price'].isna().value_counts()"
   ]
  },
  {
   "cell_type": "markdown",
   "metadata": {},
   "source": [
    "- <font color=\"orange\">Here, We can observe some null values </font>"
   ]
  },
  {
   "cell_type": "code",
   "execution_count": null,
   "metadata": {},
   "outputs": [],
   "source": [
    "data['actual_price'].unique()"
   ]
  },
  {
   "cell_type": "markdown",
   "metadata": {},
   "source": [
    "- <font color=\"orange\">Removing rupees symbol"
   ]
  },
  {
   "cell_type": "code",
   "execution_count": null,
   "metadata": {},
   "outputs": [],
   "source": [
    "data['actual_price']=data['actual_price'].str.replace('[^0-9]', '', regex=True)"
   ]
  },
  {
   "cell_type": "code",
   "execution_count": null,
   "metadata": {},
   "outputs": [],
   "source": [
    "data['actual_price'].unique()\n"
   ]
  },
  {
   "cell_type": "markdown",
   "metadata": {},
   "source": [
    "- <font color=\"orange\">Replace NAN with 0.0"
   ]
  },
  {
   "cell_type": "code",
   "execution_count": null,
   "metadata": {},
   "outputs": [],
   "source": [
    "data['actual_price']=data['actual_price'].replace(np.nan,0.0)"
   ]
  },
  {
   "cell_type": "markdown",
   "metadata": {},
   "source": [
    "- <font color=\"orange\">We successfully replace the null values with 0"
   ]
  },
  {
   "cell_type": "code",
   "execution_count": null,
   "metadata": {},
   "outputs": [],
   "source": [
    "data['actual_price'].isna().value_counts()"
   ]
  },
  {
   "cell_type": "markdown",
   "metadata": {},
   "source": [
    "- <font color = \"yellow\" ><b> Null values are replaced with 0 , now there is no null values</font>"
   ]
  },
  {
   "cell_type": "code",
   "execution_count": null,
   "metadata": {},
   "outputs": [],
   "source": [
    "percentage_missing = (data.isnull().sum() / len(data)) * 100\n",
    "percentage_missing"
   ]
  },
  {
   "cell_type": "code",
   "execution_count": null,
   "metadata": {},
   "outputs": [],
   "source": [
    "data.isnull().sum()"
   ]
  },
  {
   "cell_type": "markdown",
   "metadata": {},
   "source": [
    "---"
   ]
  },
  {
   "cell_type": "markdown",
   "metadata": {},
   "source": [
    "# <font color=\"#fff\"><b>DATA TRANFORMATION"
   ]
  },
  {
   "cell_type": "markdown",
   "metadata": {},
   "source": [
    "- <font color=\"orange\">Changing dtypes according to the data"
   ]
  },
  {
   "cell_type": "markdown",
   "metadata": {},
   "source": [
    "## Ratings column"
   ]
  },
  {
   "cell_type": "code",
   "execution_count": null,
   "metadata": {},
   "outputs": [],
   "source": [
    "data['ratings']=data['ratings'].astype(float)"
   ]
  },
  {
   "cell_type": "markdown",
   "metadata": {},
   "source": [
    "## No_of_Ratings Column"
   ]
  },
  {
   "cell_type": "code",
   "execution_count": null,
   "metadata": {},
   "outputs": [],
   "source": [
    "def convert_to_int(value):\n",
    "    try:\n",
    "        return int(value.replace(',', '').replace('Only left in stock.', '').strip())\n",
    "    except (ValueError, AttributeError):\n",
    "        return 0  # Return 0 for non-convertible values\n",
    "\n",
    "# Apply the custom function to the column\n",
    "data['no_of_ratings'] = data['no_of_ratings'].apply(convert_to_int)\n"
   ]
  },
  {
   "cell_type": "markdown",
   "metadata": {},
   "source": [
    "## Discount_price column"
   ]
  },
  {
   "cell_type": "code",
   "execution_count": null,
   "metadata": {},
   "outputs": [],
   "source": [
    "data['discount_price'] = data['discount_price'].astype(float)"
   ]
  },
  {
   "cell_type": "markdown",
   "metadata": {},
   "source": [
    "## Actual_price column"
   ]
  },
  {
   "cell_type": "code",
   "execution_count": null,
   "metadata": {},
   "outputs": [],
   "source": [
    "data['actual_price'] = data['actual_price'].astype(float)"
   ]
  },
  {
   "cell_type": "markdown",
   "metadata": {},
   "source": [
    "---"
   ]
  },
  {
   "cell_type": "markdown",
   "metadata": {},
   "source": [
    "## <font color=\"#fff\"><b>CHECKING DUPLICATE ROWS"
   ]
  },
  {
   "cell_type": "code",
   "execution_count": null,
   "metadata": {},
   "outputs": [],
   "source": [
    "data.drop_duplicates()"
   ]
  },
  {
   "cell_type": "markdown",
   "metadata": {},
   "source": [
    "- <font color=\"orange\"><b>No duplicate rows found. (becuase no change in rows)"
   ]
  },
  {
   "cell_type": "markdown",
   "metadata": {},
   "source": [
    "-----------------------------------------------------------------------------------------------------"
   ]
  },
  {
   "cell_type": "markdown",
   "metadata": {},
   "source": [
    "# <center><font color=\"gold\">DATA CLEANING WAS COMPLETED"
   ]
  },
  {
   "cell_type": "markdown",
   "metadata": {},
   "source": [
    "-----------------------------------------------------------------------------------------------------"
   ]
  },
  {
   "cell_type": "code",
   "execution_count": null,
   "metadata": {},
   "outputs": [],
   "source": [
    "data.info()"
   ]
  },
  {
   "cell_type": "markdown",
   "metadata": {},
   "source": [
    "- <font color=\"orange\"><b>We change the dtypes and equalize the content "
   ]
  },
  {
   "cell_type": "code",
   "execution_count": null,
   "metadata": {},
   "outputs": [],
   "source": [
    "data.describe()\n"
   ]
  },
  {
   "cell_type": "markdown",
   "metadata": {},
   "source": [
    "----------------------------------------------------------------------------------------------------------------------------------------------------------------------------------"
   ]
  },
  {
   "cell_type": "code",
   "execution_count": null,
   "metadata": {},
   "outputs": [],
   "source": [
    "missing_values= data.isnull().sum()"
   ]
  },
  {
   "cell_type": "code",
   "execution_count": null,
   "metadata": {},
   "outputs": [],
   "source": [
    "print(missing_values)"
   ]
  },
  {
   "cell_type": "markdown",
   "metadata": {},
   "source": [
    "---"
   ]
  },
  {
   "cell_type": "markdown",
   "metadata": {},
   "source": [
    "# <font color=\"#fff\"><B>NORMALIZATION"
   ]
  },
  {
   "cell_type": "markdown",
   "metadata": {},
   "source": [
    "### <B>RATING COLUMN"
   ]
  },
  {
   "cell_type": "code",
   "execution_count": null,
   "metadata": {},
   "outputs": [],
   "source": [
    "data['ratings'].value_counts(normalize=True)*100\n"
   ]
  },
  {
   "cell_type": "markdown",
   "metadata": {},
   "source": [
    "\n",
    "- <p><font color=\"orange\"><b>Above we convert abnormal values to 0.\n",
    "- <p><font color=\"orange\"><b>It has the highest percentage so that we need to change them into 3.5 which is median of all"
   ]
  },
  {
   "cell_type": "code",
   "execution_count": null,
   "metadata": {},
   "outputs": [],
   "source": [
    "data['ratings']=np.where(data['ratings']==0.0,data['ratings'].median(),data['ratings'])"
   ]
  },
  {
   "cell_type": "code",
   "execution_count": null,
   "metadata": {},
   "outputs": [],
   "source": [
    "data['ratings'].value_counts(normalize=True)*100"
   ]
  },
  {
   "cell_type": "markdown",
   "metadata": {},
   "source": [
    "----------------------------------------------------------------------------------------------------------------------------------------------------------------------------------"
   ]
  },
  {
   "cell_type": "markdown",
   "metadata": {},
   "source": [
    "### <B>NO_OF_RATINGS"
   ]
  },
  {
   "cell_type": "code",
   "execution_count": null,
   "metadata": {},
   "outputs": [],
   "source": [
    "data['no_of_ratings'].value_counts(normalize=True)*100\n"
   ]
  },
  {
   "cell_type": "code",
   "execution_count": null,
   "metadata": {},
   "outputs": [],
   "source": [
    "data['no_of_ratings']=np.where(data['no_of_ratings']==0.0,data['no_of_ratings'].median(),data['no_of_ratings'])"
   ]
  },
  {
   "cell_type": "code",
   "execution_count": null,
   "metadata": {},
   "outputs": [],
   "source": [
    "data['no_of_ratings'].value_counts(normalize=True)*100\n"
   ]
  },
  {
   "cell_type": "markdown",
   "metadata": {},
   "source": [
    "----------------------------------------------------------------------------------------------------------------------------------------------------------------------------------"
   ]
  },
  {
   "cell_type": "markdown",
   "metadata": {},
   "source": [
    "### <B>DISCOUNT PRICE"
   ]
  },
  {
   "cell_type": "code",
   "execution_count": null,
   "metadata": {},
   "outputs": [],
   "source": [
    "data['discount_price'].value_counts(normalize=True)*100\n"
   ]
  },
  {
   "cell_type": "code",
   "execution_count": null,
   "metadata": {},
   "outputs": [],
   "source": [
    "data['discount_price']=np.where(data['discount_price']==0.0,data['discount_price'].median(),data['discount_price'])"
   ]
  },
  {
   "cell_type": "code",
   "execution_count": null,
   "metadata": {},
   "outputs": [],
   "source": [
    "data['discount_price'].value_counts(normalize=True)*100\n"
   ]
  },
  {
   "cell_type": "markdown",
   "metadata": {},
   "source": [
    "----------------------------------------------------------------------------------------------------------------------------------------------------------------------------------"
   ]
  },
  {
   "cell_type": "markdown",
   "metadata": {},
   "source": [
    "### <B>ACTUAL PRICE"
   ]
  },
  {
   "cell_type": "code",
   "execution_count": null,
   "metadata": {},
   "outputs": [],
   "source": [
    "data['actual_price'].value_counts(normalize=True)*100\n"
   ]
  },
  {
   "cell_type": "code",
   "execution_count": null,
   "metadata": {},
   "outputs": [],
   "source": [
    "data['actual_price']=np.where(data['actual_price']==0.0,data['actual_price'].median(),data['actual_price'])"
   ]
  },
  {
   "cell_type": "code",
   "execution_count": null,
   "metadata": {},
   "outputs": [],
   "source": [
    "data['actual_price'].value_counts(normalize=True)*100\n"
   ]
  },
  {
   "cell_type": "markdown",
   "metadata": {},
   "source": [
    "----------------------------------------------------------------------------------------------------------------------------------------------------------------------------------"
   ]
  },
  {
   "cell_type": "markdown",
   "metadata": {},
   "source": [
    "# <b>ADDING EXTRA COLUMNS FOR BETTER INSIGHTS"
   ]
  },
  {
   "cell_type": "code",
   "execution_count": null,
   "metadata": {},
   "outputs": [],
   "source": [
    "data.columns"
   ]
  },
  {
   "cell_type": "markdown",
   "metadata": {},
   "source": [
    "- Sales percentage\n",
    "- Discount Amount\n",
    "- Rating level\n",
    "- Discount percentage"
   ]
  },
  {
   "cell_type": "markdown",
   "metadata": {},
   "source": [
    "## <b>Sales Percentage"
   ]
  },
  {
   "cell_type": "code",
   "execution_count": null,
   "metadata": {},
   "outputs": [],
   "source": [
    "data['sales_per'] = ((data['discount_price']/data['actual_price'])*100).round(2)"
   ]
  },
  {
   "cell_type": "markdown",
   "metadata": {},
   "source": [
    "## <B> Discount Offered"
   ]
  },
  {
   "cell_type": "code",
   "execution_count": null,
   "metadata": {},
   "outputs": [],
   "source": [
    "data['Discount_Offered'] = data['actual_price']-data['discount_price']\n"
   ]
  },
  {
   "cell_type": "markdown",
   "metadata": {},
   "source": [
    "## <b>Rating level"
   ]
  },
  {
   "cell_type": "code",
   "execution_count": null,
   "metadata": {},
   "outputs": [],
   "source": [
    "\n",
    "conditions = [\n",
    "    (data['ratings'] > 4.0),\n",
    "    (data['ratings'] > 3.2),\n",
    "]\n",
    "\n",
    "choices = ['Top rated', 'Average']\n",
    "\n",
    "data['Rating_level'] = np.select(conditions, choices, default='Low')"
   ]
  },
  {
   "cell_type": "markdown",
   "metadata": {},
   "source": [
    "## <b>Discount percentage"
   ]
  },
  {
   "cell_type": "code",
   "execution_count": null,
   "metadata": {},
   "outputs": [],
   "source": [
    "data['Discount_per'] = 1- data['discount_price']/data['actual_price']"
   ]
  },
  {
   "cell_type": "code",
   "execution_count": null,
   "metadata": {},
   "outputs": [],
   "source": [
    "data['discount_price'].max()"
   ]
  },
  {
   "cell_type": "code",
   "execution_count": null,
   "metadata": {},
   "outputs": [],
   "source": [
    "data['discount_price'].min()"
   ]
  },
  {
   "cell_type": "markdown",
   "metadata": {},
   "source": [
    "---"
   ]
  },
  {
   "cell_type": "markdown",
   "metadata": {},
   "source": [
    "## <B>Brand Name"
   ]
  },
  {
   "cell_type": "code",
   "execution_count": null,
   "metadata": {},
   "outputs": [],
   "source": [
    "data['Brand_Name'] = data['name'].str.split(\" \").str[0]"
   ]
  },
  {
   "cell_type": "code",
   "execution_count": null,
   "metadata": {},
   "outputs": [],
   "source": [
    "columns = ['name','Brand_Name', 'main_category', 'sub_category','actual_price','discount_price',\n",
    "           'Discount_Offered', 'Discount_per' ,'sales_per',\n",
    "           'ratings', 'Rating_level','no_of_ratings' ]\n",
    "data=data[columns]\n"
   ]
  },
  {
   "cell_type": "code",
   "execution_count": null,
   "metadata": {},
   "outputs": [],
   "source": [
    "data.select_dtypes(include=['object','category'])"
   ]
  },
  {
   "cell_type": "markdown",
   "metadata": {},
   "source": [
    "---"
   ]
  },
  {
   "cell_type": "code",
   "execution_count": null,
   "metadata": {},
   "outputs": [],
   "source": [
    "data.columns"
   ]
  },
  {
   "cell_type": "code",
   "execution_count": null,
   "metadata": {},
   "outputs": [],
   "source": [
    "data.info()"
   ]
  },
  {
   "cell_type": "code",
   "execution_count": null,
   "metadata": {},
   "outputs": [],
   "source": [
    "data.nunique().sort_values(ascending=False).plot(kind='bar',figsize=(10,5),title = 'UNIQUE COUNTS')"
   ]
  },
  {
   "cell_type": "markdown",
   "metadata": {},
   "source": [
    "---"
   ]
  },
  {
   "cell_type": "markdown",
   "metadata": {},
   "source": [
    "# <B>OUTLIERS DETECTION"
   ]
  },
  {
   "cell_type": "markdown",
   "metadata": {},
   "source": []
  },
  {
   "cell_type": "code",
   "execution_count": null,
   "metadata": {},
   "outputs": [],
   "source": [
    "sb.boxplot(data=data,x='actual_price')\n",
    "plt.show()"
   ]
  },
  {
   "cell_type": "code",
   "execution_count": null,
   "metadata": {},
   "outputs": [],
   "source": [
    "max(data['actual_price'])"
   ]
  },
  {
   "cell_type": "code",
   "execution_count": null,
   "metadata": {},
   "outputs": [],
   "source": [
    "min(data['actual_price'])"
   ]
  },
  {
   "cell_type": "code",
   "execution_count": null,
   "metadata": {},
   "outputs": [],
   "source": [
    "x= np.quantile(data['actual_price'],(0.25,0.75))\n",
    "Q3=x[1]\n",
    "Q1=x[0]\n",
    "print(\"Q1: \",Q1)\n",
    "print(\"Q3: \",Q3)\n"
   ]
  },
  {
   "cell_type": "code",
   "execution_count": null,
   "metadata": {},
   "outputs": [],
   "source": [
    "IQR = Q3-Q1\n",
    "uw= Q3+ 1.5*IQR\n",
    "lw =Q1-1.5 * IQR"
   ]
  },
  {
   "cell_type": "code",
   "execution_count": null,
   "metadata": {},
   "outputs": [],
   "source": [
    "data['actual_price']=np.where(data['actual_price']>uw,uw,data['actual_price'])"
   ]
  },
  {
   "cell_type": "code",
   "execution_count": null,
   "metadata": {},
   "outputs": [],
   "source": [
    "data['actual_price']=np.where(data['actual_price']<lw,lw,data['actual_price'])"
   ]
  },
  {
   "cell_type": "code",
   "execution_count": null,
   "metadata": {},
   "outputs": [],
   "source": [
    "max(data['actual_price'])"
   ]
  },
  {
   "cell_type": "code",
   "execution_count": null,
   "metadata": {},
   "outputs": [],
   "source": [
    "sb.boxplot(data=data,x='actual_price')"
   ]
  },
  {
   "cell_type": "code",
   "execution_count": null,
   "metadata": {},
   "outputs": [],
   "source": [
    "sb.boxplot(data=data,x='discount_price')\n",
    "plt.show()"
   ]
  },
  {
   "cell_type": "code",
   "execution_count": null,
   "metadata": {},
   "outputs": [],
   "source": [
    "x= np.quantile(data['discount_price'],(0.25,0.75))\n",
    "Q3=x[1]\n",
    "Q1=x[0]\n",
    "print(\"Q1: \",Q1)\n",
    "print(\"Q3: \",Q3)\n",
    "IQR = Q3-Q1\n",
    "uw= Q3+ 1.5*IQR\n",
    "lw =Q1-1.5 * IQR"
   ]
  },
  {
   "cell_type": "code",
   "execution_count": null,
   "metadata": {},
   "outputs": [],
   "source": [
    "data['discount_price']=np.where(data['discount_price']>uw,uw,data['discount_price'])"
   ]
  },
  {
   "cell_type": "code",
   "execution_count": null,
   "metadata": {},
   "outputs": [],
   "source": [
    "data['discount_price']=np.where(data['discount_price']<lw,lw,data['discount_price'])"
   ]
  },
  {
   "cell_type": "code",
   "execution_count": null,
   "metadata": {},
   "outputs": [],
   "source": [
    "sb.boxplot(data=data,x='discount_price')"
   ]
  },
  {
   "cell_type": "code",
   "execution_count": null,
   "metadata": {},
   "outputs": [],
   "source": [
    "max(data['discount_price'])"
   ]
  },
  {
   "cell_type": "code",
   "execution_count": null,
   "metadata": {},
   "outputs": [],
   "source": [
    "min(data['discount_price'])"
   ]
  },
  {
   "cell_type": "code",
   "execution_count": null,
   "metadata": {},
   "outputs": [],
   "source": [
    "sb.boxplot(data=data,x='Discount_Offered')\n",
    "plt.show()"
   ]
  },
  {
   "cell_type": "code",
   "execution_count": null,
   "metadata": {},
   "outputs": [],
   "source": [
    "x= np.quantile(data['Discount_Offered'],(0.25,0.75))\n",
    "Q3=x[1]\n",
    "Q1=x[0]\n",
    "print(\"Q1: \",Q1)\n",
    "print(\"Q3: \",Q3)\n",
    "IQR = Q3-Q1\n",
    "uw= Q3+ 1.5*IQR\n",
    "lw =Q1-1.5 * IQR"
   ]
  },
  {
   "cell_type": "code",
   "execution_count": null,
   "metadata": {},
   "outputs": [],
   "source": [
    "data['Discount_Offered']=np.where(data['Discount_Offered']>uw,uw,data['Discount_Offered'])"
   ]
  },
  {
   "cell_type": "code",
   "execution_count": null,
   "metadata": {},
   "outputs": [],
   "source": [
    "data['Discount_Offered']=np.where(data['Discount_Offered']<lw,lw,data['Discount_Offered'])"
   ]
  },
  {
   "cell_type": "code",
   "execution_count": null,
   "metadata": {},
   "outputs": [],
   "source": [
    "sb.boxplot(data=data,x='Discount_Offered')\n",
    "plt.show()"
   ]
  },
  {
   "cell_type": "code",
   "execution_count": null,
   "metadata": {},
   "outputs": [],
   "source": [
    "sb.boxplot(data=data,x='Discount_per')\n",
    "plt.show()"
   ]
  },
  {
   "cell_type": "code",
   "execution_count": null,
   "metadata": {},
   "outputs": [],
   "source": [
    "x= np.quantile(data['Discount_per'],(0.25,0.75))\n",
    "Q3=x[1]\n",
    "Q1=x[0]\n",
    "print(\"Q1: \",Q1)\n",
    "print(\"Q3: \",Q3)\n",
    "IQR = Q3-Q1\n",
    "uw= Q3+ 1.5*IQR\n",
    "lw =Q1-1.5 * IQR"
   ]
  },
  {
   "cell_type": "code",
   "execution_count": null,
   "metadata": {},
   "outputs": [],
   "source": [
    "data['Discount_per']=np.where(data['Discount_per']>uw,uw,data['Discount_per'])"
   ]
  },
  {
   "cell_type": "code",
   "execution_count": null,
   "metadata": {},
   "outputs": [],
   "source": [
    "data['Discount_per']=np.where(data['Discount_per']<lw,lw,data['Discount_per'])"
   ]
  },
  {
   "cell_type": "code",
   "execution_count": null,
   "metadata": {},
   "outputs": [],
   "source": [
    "sb.boxplot(data=data,x='Discount_per')\n",
    "plt.show()"
   ]
  },
  {
   "cell_type": "code",
   "execution_count": null,
   "metadata": {},
   "outputs": [],
   "source": [
    "data.columns\n"
   ]
  },
  {
   "cell_type": "code",
   "execution_count": null,
   "metadata": {},
   "outputs": [],
   "source": [
    "data['sales_per'].unique()"
   ]
  },
  {
   "cell_type": "code",
   "execution_count": null,
   "metadata": {},
   "outputs": [],
   "source": [
    "sb.boxplot(data=data,x='sales_per')\n",
    "plt.show()"
   ]
  },
  {
   "cell_type": "code",
   "execution_count": null,
   "metadata": {},
   "outputs": [],
   "source": [
    "x= np.quantile(data['sales_per'],(0.25,0.75))\n",
    "Q3=x[1]\n",
    "Q1=x[0]\n",
    "print(\"Q1: \",Q1)\n",
    "print(\"Q3: \",Q3)\n",
    "IQR = Q3-Q1\n",
    "uw= Q3+ 1.5*IQR\n",
    "lw =Q1-1.5 * IQR"
   ]
  },
  {
   "cell_type": "code",
   "execution_count": null,
   "metadata": {},
   "outputs": [],
   "source": [
    "data['sales_per']=np.where(data['sales_per']>uw,uw,data['sales_per'])\n",
    "data['sales_per']=np.where(data['sales_per']<lw,lw,data['sales_per'])"
   ]
  },
  {
   "cell_type": "code",
   "execution_count": null,
   "metadata": {},
   "outputs": [],
   "source": [
    "sb.boxplot(data=data,x='sales_per')\n",
    "plt.show()"
   ]
  },
  {
   "cell_type": "code",
   "execution_count": null,
   "metadata": {},
   "outputs": [],
   "source": [
    "sb.boxplot(data=data, x='ratings')\n",
    "plt.show()"
   ]
  },
  {
   "cell_type": "code",
   "execution_count": null,
   "metadata": {},
   "outputs": [],
   "source": [
    "x= np.quantile(data['ratings'],(0.25,0.75))\n",
    "Q3=x[1]\n",
    "Q1=x[0]\n",
    "print(\"Q1: \",Q1)\n",
    "print(\"Q3: \",Q3)\n",
    "IQR = Q3-Q1\n",
    "uw= Q3+ 1.5*IQR\n",
    "lw =Q1-1.5 * IQR"
   ]
  },
  {
   "cell_type": "code",
   "execution_count": null,
   "metadata": {},
   "outputs": [],
   "source": [
    "data['ratings']=np.where(data['ratings']>uw,uw,data['ratings'])\n",
    "data['ratings']=np.where(data['ratings']<lw,lw,data['ratings'])"
   ]
  },
  {
   "cell_type": "code",
   "execution_count": null,
   "metadata": {},
   "outputs": [],
   "source": [
    "sb.boxplot(data=data, x='ratings')\n",
    "plt.show()"
   ]
  },
  {
   "cell_type": "code",
   "execution_count": null,
   "metadata": {},
   "outputs": [],
   "source": [
    "sb.boxplot(data=data, x='no_of_ratings')\n",
    "plt.show()"
   ]
  },
  {
   "cell_type": "code",
   "execution_count": null,
   "metadata": {},
   "outputs": [],
   "source": [
    "x= np.quantile(data['no_of_ratings'],(0.25,0.75))\n",
    "Q3=x[1]\n",
    "Q1=x[0]\n",
    "print(\"Q1: \",Q1)\n",
    "print(\"Q3: \",Q3)\n",
    "IQR = Q3-Q1\n",
    "uw= Q3+ 1.5*IQR\n",
    "lw =Q1-1.5 * IQR"
   ]
  },
  {
   "cell_type": "code",
   "execution_count": null,
   "metadata": {},
   "outputs": [],
   "source": [
    "data['no_of_ratings']=np.where(data['no_of_ratings']>uw,uw,data['no_of_ratings'])\n",
    "data['no_of_ratings']=np.where(data['no_of_ratings']<lw,lw,data['no_of_ratings'])"
   ]
  },
  {
   "cell_type": "code",
   "execution_count": null,
   "metadata": {},
   "outputs": [],
   "source": [
    "sb.boxplot(data=data, x='no_of_ratings')\n",
    "plt.show()"
   ]
  },
  {
   "cell_type": "code",
   "execution_count": null,
   "metadata": {},
   "outputs": [],
   "source": [
    "data.describe()"
   ]
  },
  {
   "cell_type": "markdown",
   "metadata": {},
   "source": [
    "# <center><b>UNI-VARiATE ANALYSIS OF BRAND_NAME"
   ]
  },
  {
   "cell_type": "markdown",
   "metadata": {},
   "source": [
    "---"
   ]
  },
  {
   "cell_type": "markdown",
   "metadata": {},
   "source": [
    "## What are the top 10 brands with respective to their product counts?"
   ]
  },
  {
   "cell_type": "code",
   "execution_count": null,
   "metadata": {},
   "outputs": [],
   "source": [
    "brand_counts = data['Brand_Name'].value_counts()\n",
    "top_brands = brand_counts.head(10)  # Display top 10 brands\n",
    "plt.figure(figsize=(12, 6))\n",
    "sb.barplot(x=top_brands.index, y=top_brands.values, palette='plasma')\n",
    "plt.xticks(rotation=90)\n",
    "plt.xlabel('Brand Name')\n",
    "plt.ylabel('Count')\n",
    "plt.title('Top 10 Brands')\n",
    "plt.show()"
   ]
  },
  {
   "cell_type": "markdown",
   "metadata": {},
   "source": [
    "-  The given barchart demonstrates the top 10 brands which have high product count"
   ]
  },
  {
   "cell_type": "markdown",
   "metadata": {},
   "source": [
    "---"
   ]
  },
  {
   "cell_type": "markdown",
   "metadata": {},
   "source": [
    "### which company products are buying more?\n",
    "Ans:- PC Company products are buying more"
   ]
  },
  {
   "cell_type": "markdown",
   "metadata": {},
   "source": [
    "---"
   ]
  },
  {
   "cell_type": "markdown",
   "metadata": {},
   "source": [
    "## <b>What are the bottom 10 brands with respective to thier Product counts?"
   ]
  },
  {
   "cell_type": "code",
   "execution_count": null,
   "metadata": {},
   "outputs": [],
   "source": [
    "brand_counts = data['Brand_Name'].value_counts()\n",
    "low_brands = brand_counts.tail(10)  # Display top 10 brands\n",
    "plt.figure(figsize=(12, 6))\n",
    "sb.barplot(x=low_brands.index, y=low_brands.values, palette='plasma')\n",
    "plt.xticks(rotation=90)\n",
    "plt.xlabel('Brand Name')\n",
    "plt.ylabel('Count')\n",
    "plt.title('Least 10 Brands')\n",
    "plt.show()"
   ]
  },
  {
   "cell_type": "markdown",
   "metadata": {},
   "source": [
    "## What are the main categories of the products in terms of their counts?"
   ]
  },
  {
   "cell_type": "code",
   "execution_count": null,
   "metadata": {},
   "outputs": [],
   "source": [
    "data['main_category'].value_counts().reset_index()"
   ]
  },
  {
   "cell_type": "code",
   "execution_count": null,
   "metadata": {},
   "outputs": [],
   "source": [
    "data['main_category'].unique()"
   ]
  },
  {
   "cell_type": "code",
   "execution_count": null,
   "metadata": {},
   "outputs": [],
   "source": [
    "\n",
    "# Column: 'main_category' - Main Product Category\n",
    "# Univariate analysis for categorical data\n",
    "category_counts = data['main_category'].value_counts()\n",
    "plt.figure(figsize=(40, 6))\n",
    "sb.barplot(x=category_counts.index, y=category_counts.values, palette='Set2')\n",
    "plt.xticks(rotation=90,fontsize=20)\n",
    "plt.yticks(fontsize=20)\n",
    "plt.xlabel('Main Category',fontsize=36)\n",
    "plt.ylabel('Count',fontsize=36)\n",
    "plt.title('Distribution of Main Categories',fontsize=56)\n",
    "plt.show()\n"
   ]
  },
  {
   "cell_type": "code",
   "execution_count": null,
   "metadata": {},
   "outputs": [],
   "source": [
    "main_cat=data['main_category'].value_counts().reset_index().head(10)\n",
    "main_cat"
   ]
  },
  {
   "cell_type": "code",
   "execution_count": null,
   "metadata": {},
   "outputs": [],
   "source": [
    "plt.figure(figsize=(35,8))\n",
    "plt.bar(main_cat['main_category'],main_cat['count'])\n",
    "plt.xticks(fontsize=18)\n",
    "plt.yticks(fontsize=18)\n",
    "plt.title(\"Top 10 main categories having high product count\",fontsize=36)\n",
    "plt.xlabel('Main Category', fontsize = 20 )\n",
    "plt.ylabel('Count of Products',fontsize=20)\n",
    "plt.show()"
   ]
  },
  {
   "cell_type": "markdown",
   "metadata": {},
   "source": [
    "- Accessories have more no.of products in Main category"
   ]
  },
  {
   "cell_type": "markdown",
   "metadata": {},
   "source": [
    "---"
   ]
  },
  {
   "cell_type": "markdown",
   "metadata": {},
   "source": [
    "## <b>What are the sub-categories of the products with respect to their product count?"
   ]
  },
  {
   "cell_type": "code",
   "execution_count": null,
   "metadata": {},
   "outputs": [],
   "source": [
    "data['sub_category'].value_counts().reset_index()"
   ]
  },
  {
   "cell_type": "code",
   "execution_count": null,
   "metadata": {},
   "outputs": [],
   "source": [
    "plt.figure(figsize=(50,15))\n",
    "sb.countplot(data=data,x='sub_category')\n",
    "plt.xticks(rotation=90,fontsize=24)\n",
    "plt.yticks(fontsize=24)\n",
    "plt.xlabel('Sub_Category',fontsize=20)\n",
    "plt.ylabel('Count of Products', fontsize=28)\n",
    "plt.title(\"UNI-VARIATE ANALYSIS OF SUB CATEGORY\",fontsize=36)\n",
    "plt.show()\n"
   ]
  },
  {
   "cell_type": "markdown",
   "metadata": {},
   "source": [
    "### Top 10 sub categories "
   ]
  },
  {
   "cell_type": "code",
   "execution_count": null,
   "metadata": {},
   "outputs": [],
   "source": [
    "sub_cat=data['sub_category'].value_counts().reset_index().head(10)\n",
    "sub_cat"
   ]
  },
  {
   "cell_type": "code",
   "execution_count": null,
   "metadata": {},
   "outputs": [],
   "source": [
    "sub_cat.sub_category.values"
   ]
  },
  {
   "cell_type": "markdown",
   "metadata": {},
   "source": [
    "## What are the top 10 sub categories with respect to product count?"
   ]
  },
  {
   "cell_type": "code",
   "execution_count": null,
   "metadata": {},
   "outputs": [],
   "source": [
    "# Column: 'sub_category' - Sub-Category\n",
    "# Univariate analysis for categorical data\n",
    "sub_category_counts = data['sub_category'].value_counts()\n",
    "top_sub_categories = sub_category_counts.head(10)  # Display top 10 sub-categories\n",
    "plt.figure(figsize=(12, 6))\n",
    "sb.barplot(x=top_sub_categories.index, y=top_sub_categories.values, palette='tab20')\n",
    "plt.xticks(rotation=90)\n",
    "plt.xlabel('Sub-Category')\n",
    "plt.ylabel('Count')\n",
    "plt.title('Top 10 Sub-Categories')\n",
    "plt.show()"
   ]
  },
  {
   "cell_type": "markdown",
   "metadata": {},
   "source": [
    "---"
   ]
  },
  {
   "cell_type": "markdown",
   "metadata": {},
   "source": [
    "## "
   ]
  },
  {
   "cell_type": "markdown",
   "metadata": {},
   "source": [
    "### Bottom 10 sub categories"
   ]
  },
  {
   "cell_type": "code",
   "execution_count": null,
   "metadata": {},
   "outputs": [],
   "source": [
    "sub_cat2=data['sub_category'].value_counts().reset_index().tail(10)\n",
    "sub_cat2"
   ]
  },
  {
   "cell_type": "markdown",
   "metadata": {},
   "source": [
    "## What are the bottom 10 sub categories with respect to product count?"
   ]
  },
  {
   "cell_type": "code",
   "execution_count": null,
   "metadata": {},
   "outputs": [],
   "source": [
    "plt.figure(figsize=(40,8))\n",
    "plt.bar(sub_cat2['sub_category'],sub_cat2['count'])\n",
    "plt.xticks(fontsize=14)\n",
    "plt.yticks(fontsize=14)\n",
    "plt.title(\"Bottom 10 sub categories having high product count\",fontsize=36)\n",
    "plt.xlabel('Sub Category', fontsize = 20 )\n",
    "plt.ylabel('Count of Products',fontsize=20)\n",
    "plt.show()"
   ]
  },
  {
   "cell_type": "code",
   "execution_count": null,
   "metadata": {},
   "outputs": [],
   "source": [
    "data.columns"
   ]
  },
  {
   "cell_type": "code",
   "execution_count": null,
   "metadata": {},
   "outputs": [],
   "source": [
    "name_counts = data['name'].value_counts()\n",
    "top_names = name_counts.head(10)  # Display top 10 product names\n",
    "plt.figure(figsize=(12, 6))\n",
    "sb.barplot(x=top_names.index, y=top_names.values, palette='viridis')\n",
    "plt.xticks(rotation=90)\n",
    "plt.xlabel('Product Name')\n",
    "plt.ylabel('Count')\n",
    "plt.title('Top 10 Product Names')\n",
    "plt.show()\n"
   ]
  },
  {
   "cell_type": "code",
   "execution_count": null,
   "metadata": {},
   "outputs": [],
   "source": [
    "top_names.index"
   ]
  },
  {
   "cell_type": "code",
   "execution_count": null,
   "metadata": {},
   "outputs": [],
   "source": [
    "# Column: 'actual_price' - Actual Price\n",
    "# Univariate analysis for numerical data (KDE plot)\n",
    "plt.figure(figsize=(10, 6))\n",
    "sb.kdeplot(data['actual_price'], color='skyblue', fill=True)\n",
    "plt.xlabel('Actual Price')\n",
    "plt.ylabel('Density')\n",
    "plt.title('Distribution of Actual Prices (KDE Plot)')\n",
    "plt.show()\n"
   ]
  },
  {
   "cell_type": "markdown",
   "metadata": {},
   "source": [
    "The KDE plot of the ‘actual_price’ column shows that the distribution of actual prices appears to be bimodal, with two peaks around 1000 and 2500. This suggests that there are two groups in the data with different price ranges. The density is highest at these two peaks, indicating that most of the prices are around these values. The density decreases as the price increases or decreases from these values, indicating fewer data points in those ranges. This could imply that items priced around 1000 and 2500 are more common."
   ]
  },
  {
   "cell_type": "code",
   "execution_count": null,
   "metadata": {},
   "outputs": [],
   "source": [
    "\n",
    "# Column: 'ratings' - Ratings (Numerical)\n",
    "# Univariate analysis for numerical data (histogram)\n",
    "plt.figure(figsize=(10, 6))\n",
    "sb.histplot(data['ratings'], kde=True, color='lightgreen')\n",
    "plt.xlabel('Ratings')\n",
    "plt.ylabel('Frequency')\n",
    "plt.title('Distribution of Ratings')\n",
    "plt.show()\n",
    "\n"
   ]
  },
  {
   "cell_type": "markdown",
   "metadata": {},
   "source": [
    "The histogram of the ratings column apperas that distribution be bimodal "
   ]
  },
  {
   "cell_type": "code",
   "execution_count": null,
   "metadata": {},
   "outputs": [],
   "source": [
    "data['ratings'].unique()"
   ]
  },
  {
   "cell_type": "code",
   "execution_count": null,
   "metadata": {},
   "outputs": [],
   "source": [
    "\n",
    "# Column: 'Rating_level' - Rating Level (Categorical)\n",
    "# Univariate analysis for categorical data\n",
    "\n",
    "rating_level_counts = data['Rating_level'].value_counts()\n",
    "plt.figure(figsize=(8, 6))\n",
    "sb.barplot(x=rating_level_counts.index, y=rating_level_counts.values, palette='Pastel1')\n",
    "plt.xticks(rotation=45)\n",
    "plt.xlabel('Rating Level')\n",
    "plt.ylabel('Count')\n",
    "plt.title('Distribution of Rating Levels')\n",
    "plt.show()\n"
   ]
  },
  {
   "cell_type": "markdown",
   "metadata": {},
   "source": [
    "# BI-VARIATE ANALYSIS"
   ]
  },
  {
   "cell_type": "markdown",
   "metadata": {},
   "source": [
    "Most Popular Products:"
   ]
  },
  {
   "cell_type": "code",
   "execution_count": null,
   "metadata": {},
   "outputs": [],
   "source": [
    "top_rated_products = data.nlargest(10, 'ratings')\n",
    "plt.figure(figsize=(12, 6))\n",
    "sb.barplot(data=top_rated_products, x='ratings', y='name')\n",
    "plt.title('Top 10 Most Popular Products by Ratings')\n",
    "plt.xlabel('Ratings')\n",
    "plt.ylabel('Product Name')\n",
    "plt.show()"
   ]
  },
  {
   "cell_type": "code",
   "execution_count": null,
   "metadata": {},
   "outputs": [],
   "source": [
    "top_rated_products.name.values"
   ]
  },
  {
   "cell_type": "markdown",
   "metadata": {},
   "source": [
    "---"
   ]
  },
  {
   "cell_type": "code",
   "execution_count": null,
   "metadata": {},
   "outputs": [],
   "source": [
    "# Create a scatter plot to compare actual_price and discount_price for top-selling products\n",
    "top_selling_products = data.nlargest(100, 'sales_per')  # Assuming you consider the top 100 products as top sellers\n",
    "plt.figure(figsize=(10, 6))\n",
    "sb.scatterplot(data=top_selling_products, x='actual_price', y='discount_price')\n",
    "plt.title('Pricing Strategies of Top Sellers')\n",
    "plt.xlabel('Actual Price')\n",
    "plt.ylabel('Discounted Price')\n",
    "plt.show()\n",
    "# Explain the pricing strategies you observe among top sellers."
   ]
  },
  {
   "cell_type": "markdown",
   "metadata": {},
   "source": [
    "---"
   ]
  },
  {
   "cell_type": "code",
   "execution_count": null,
   "metadata": {},
   "outputs": [],
   "source": [
    "# Create a scatter plot to analyze the correlation between ratings and sales_per\n",
    "plt.figure(figsize=(10, 6))\n",
    "sb.scatterplot(data=data, x='ratings', y='sales_per')\n",
    "plt.title('Effect of Product Reviews on Sales')\n",
    "plt.xlabel('Ratings')\n",
    "plt.ylabel('Sales Performance')\n",
    "plt.show()\n",
    "# Explain the relationship between ratings and sales performance.\n"
   ]
  },
  {
   "cell_type": "markdown",
   "metadata": {},
   "source": [
    "---"
   ]
  },
  {
   "cell_type": "code",
   "execution_count": null,
   "metadata": {},
   "outputs": [],
   "source": [
    "# Create a bar chart to show the average ratings by main_category\n",
    "avg_ratings_by_category = data.groupby('main_category')['ratings'].mean().reset_index()\n",
    "plt.figure(figsize=(12, 6))\n",
    "sb.barplot(data=avg_ratings_by_category, x='ratings', y='main_category')\n",
    "plt.title('Average Ratings by Main Category')\n",
    "plt.xlabel('Average Ratings')\n",
    "plt.ylabel('Main Category')\n",
    "plt.show()\n",
    "# Explain which main categories have high average ratings.\n"
   ]
  },
  {
   "cell_type": "code",
   "execution_count": null,
   "metadata": {},
   "outputs": [],
   "source": [
    "# Create a scatter plot to analyze the correlation between ratings and sales_per\n",
    "plt.figure(figsize=(10, 6))\n",
    "sb.scatterplot(data=data, x='ratings', y='sales_per')\n",
    "plt.title('Impact of Ratings on Sales')\n",
    "plt.xlabel('Ratings')\n",
    "plt.ylabel('Sales Performance')\n",
    "plt.show()\n",
    "# Explain how ratings impact the sales performance of products.\n"
   ]
  },
  {
   "cell_type": "code",
   "execution_count": null,
   "metadata": {},
   "outputs": [],
   "source": [
    "# Create a count plot to show the frequency of each main_category\n",
    "plt.figure(figsize=(12, 6))\n",
    "sb.countplot(data=data, y='main_category', order=data['main_category'].value_counts().index)\n",
    "plt.title('Popular Product Categories')\n",
    "plt.xlabel('Frequency')\n",
    "plt.ylabel('Main Category')\n",
    "plt.show()\n",
    "# Explain which main categories are the most popular based on frequency.\n"
   ]
  },
  {
   "cell_type": "code",
   "execution_count": null,
   "metadata": {},
   "outputs": [],
   "source": [
    "# Create a count plot to show the number of unique products or sellers within each main_category\n",
    "unique_products_per_category = data.groupby('main_category')['name'].nunique().reset_index()\n",
    "plt.figure(figsize=(12, 6))\n",
    "sb.barplot(data=unique_products_per_category, x='name', y='main_category')\n",
    "plt.title('Competitive Product Categories')\n",
    "plt.xlabel('Number of Unique Products')\n",
    "plt.ylabel('Main Category')\n",
    "plt.show()\n",
    "# Explain which main categories are the most competitive based on the number of unique products.\n"
   ]
  },
  {
   "cell_type": "code",
   "execution_count": null,
   "metadata": {},
   "outputs": [],
   "source": [
    "# Create a bar chart to show the average ratings by main_category\n",
    "avg_ratings_by_category = data.groupby('main_category')['ratings'].mean().reset_index()\n",
    "plt.figure(figsize=(12, 6))\n",
    "sb.barplot(data=avg_ratings_by_category, x='ratings', y='main_category')\n",
    "plt.title('Average Ratings by Main Category')\n",
    "plt.xlabel('Average Ratings')\n",
    "plt.ylabel('Main Category')\n",
    "plt.show()\n",
    "# Explain the relationship between average ratings and main categories.\n"
   ]
  },
  {
   "cell_type": "code",
   "execution_count": null,
   "metadata": {},
   "outputs": [],
   "source": [
    "data.columns"
   ]
  },
  {
   "cell_type": "code",
   "execution_count": null,
   "metadata": {},
   "outputs": [],
   "source": [
    "# Create a bar chart to show the top 5 main_category by sales_metric\n",
    "top_5_categories = data.groupby('main_category')['sales_per'].sum().nlargest(5).reset_index()\n",
    "plt.figure(figsize=(12, 6))\n",
    "sb.barplot(data=top_5_categories, x='sales_per', y='main_category')\n",
    "plt.title('Top 5 Product Categories in Sales')\n",
    "plt.xlabel('Sales Percentage (Sum)')\n",
    "plt.ylabel('Main Category')\n",
    "plt.show()\n",
    "# Explain the top 5 main categories with the highest sales_metric.\n"
   ]
  },
  {
   "cell_type": "code",
   "execution_count": null,
   "metadata": {},
   "outputs": [],
   "source": [
    "# Create a bar chart to show the least 5 main_category by sales_metric\n",
    "least_5_categories = data.groupby('main_category')['sales_per'].sum().nsmallest(5).reset_index()\n",
    "plt.figure(figsize=(12, 6))\n",
    "sb.barplot(data=least_5_categories, x='sales_per', y='main_category')\n",
    "plt.title('Least 5 Product Categories in Sales')\n",
    "plt.xlabel('Sales Performance (Sum)')\n",
    "plt.ylabel('Main Category')\n",
    "plt.show()\n",
    "# Explain the least 5 main categories with the lowest sales_metric.\n"
   ]
  },
  {
   "cell_type": "code",
   "execution_count": null,
   "metadata": {},
   "outputs": [],
   "source": [
    "# Calculate profit margins and create a bar chart or list products with the highest and lowest margins\n",
    "data['profit_margin'] = data['actual_price'] - data['discount_price']\n",
    "highest_margin_products = data.nlargest(10, 'profit_margin')\n",
    "lowest_margin_products = data.nsmallest(10, 'profit_margin')\n",
    "plt.figure(figsize=(12, 6))\n",
    "sb.barplot(data=highest_margin_products, x='profit_margin', y='name', color='green', label='Highest Margin')\n",
    "sb.barplot(data=lowest_margin_products, x='profit_margin', y='name', color='red', label='Lowest Margin')\n",
    "plt.title('Products with Highest and Lowest Profit Margins')\n",
    "plt.xlabel('Profit Margin')\n",
    "plt.ylabel('Product Name')\n",
    "plt.legend()\n",
    "plt.show()\n",
    "# Explain the products with the highest and lowest profit margins.\n",
    "\n"
   ]
  },
  {
   "cell_type": "code",
   "execution_count": null,
   "metadata": {},
   "outputs": [],
   "source": [
    "# Calculate average discount percentage for products and analyze its impact on sales_metric\n",
    "avg_discount_percentage = (data['discount_price'] / data['actual_price']).mean() * 100\n",
    "plt.figure(figsize=(10, 6))\n",
    "sb.scatterplot(data=data, x='Discount_per', y='sales_per')\n",
    "plt.axvline(x=avg_discount_percentage, color='red', linestyle='--', label=f'Average Discount Percentage ({avg_discount_percentage:.2f}%)')\n",
    "plt.title('Average Discount Percentage and Impact on Sales')\n",
    "plt.xlabel('Discount Percentage')\n",
    "plt.ylabel('Sales Performance')\n",
    "plt.legend()\n",
    "plt.show()\n",
    "# Explain the relationship between discount percentage and sales_metric.\n"
   ]
  },
  {
   "cell_type": "code",
   "execution_count": null,
   "metadata": {},
   "outputs": [],
   "source": [
    "# Create a bar chart to compare the average actual prices and discounted prices by main_category\n",
    "avg_actual_prices = data.groupby('main_category')['actual_price'].mean().reset_index()\n",
    "avg_discounted_prices = data.groupby('main_category')['discount_price'].mean().reset_index()\n",
    "plt.figure(figsize=(12, 6), FigureClass=plt.figure)\n",
    "\n",
    "sb.barplot(data=avg_actual_prices, x='actual_price', y='main_category', label='Average Actual Price', color='skyblue')\n",
    "sb.barplot(data=avg_discounted_prices, x='discount_price', y='main_category', label='Average Discounted Price', color='salmon')\n",
    "plt.title('Price Comparison: Actual vs. Discounted by Category')\n",
    "plt.xlabel('Average Price')\n",
    "plt.ylabel('Main Category')\n",
    "plt.legend()\n",
    "plt.show()\n",
    "# Explain how actual prices compare to discounted prices by category.\n"
   ]
  },
  {
   "cell_type": "code",
   "execution_count": null,
   "metadata": {},
   "outputs": [],
   "source": [
    "avg_actual_prices = data.groupby('main_category')['actual_price'].mean().reset_index()\n",
    "avg_discounted_prices = data.groupby('main_category')['discount_price'].mean().reset_index()\n",
    "\n",
    "avg_price_diff = avg_actual_prices['actual_price'] - avg_discounted_prices['discount_price']\n",
    "avg_price_diff_df = pd.DataFrame({'main_category': avg_actual_prices['main_category'], 'avg_price_diff': avg_price_diff})\n",
    "\n",
    "max_diff_category = avg_price_diff_df.loc[avg_price_diff_df['avg_price_diff'].idxmax(), 'main_category']\n",
    "\n",
    "plt.figure(figsize=(12, 6))\n",
    "\n",
    "# Define the order of categories based on average price difference\n",
    "order = avg_price_diff_df.sort_values(by='avg_price_diff', ascending=False)['main_category']\n",
    "\n",
    "# Plotting average actual prices\n",
    "ax = sb.barplot(data=avg_actual_prices, x='actual_price', y='main_category',order=order ,label='Average Actual Price', color='skyblue')\n",
    "\n",
    "# Plotting average discounted prices\n",
    "sb.barplot(data=avg_discounted_prices, x='discount_price', y='main_category', order=order,label='Average Discounted Price', color='salmon')\n",
    "\n",
    "# Adding annotations for actual prices\n",
    "for p in ax.patches:\n",
    "    ax.annotate(f'{p.get_width():.2f}', (p.get_width(), p.get_y() + p.get_height() / 2),\n",
    "                ha='left', va='center', color='black', fontsize=10)\n",
    "\n",
    "plt.title('Price Comparison: Actual vs. Discounted by Category')\n",
    "plt.xlabel('Average Price')\n",
    "plt.ylabel('Main Category')\n",
    "plt.legend()\n",
    "plt.show()"
   ]
  },
  {
   "cell_type": "markdown",
   "metadata": {},
   "source": [
    "# Multi variate analysis"
   ]
  },
  {
   "cell_type": "code",
   "execution_count": null,
   "metadata": {},
   "outputs": [],
   "source": [
    "numeric_columns=data.select_dtypes(include=\"number\").columns"
   ]
  },
  {
   "cell_type": "code",
   "execution_count": null,
   "metadata": {},
   "outputs": [],
   "source": [
    "sb.pairplot(data[numeric_columns])\n"
   ]
  },
  {
   "cell_type": "code",
   "execution_count": null,
   "metadata": {},
   "outputs": [],
   "source": [
    "numeric_columns = data.select_dtypes(include=\"number\").columns\n",
    "print(numeric_columns)"
   ]
  },
  {
   "cell_type": "code",
   "execution_count": null,
   "metadata": {},
   "outputs": [],
   "source": [
    "corr = data[numeric_columns].corr()\n",
    "plt.figure(figsize=(10,10))\n",
    "sb.heatmap(corr, annot=True, cmap='coolwarm')\n"
   ]
  },
  {
   "cell_type": "markdown",
   "metadata": {},
   "source": [
    "## Distribution"
   ]
  },
  {
   "cell_type": "code",
   "execution_count": null,
   "metadata": {},
   "outputs": [],
   "source": [
    "numerical_columns = ['actual_price', 'discount_price', 'Discount_Offered', 'ratings', 'no_of_ratings', 'profit_margin']\n",
    "\n",
    "fig, axes = plt.subplots(nrows=2, ncols=3, figsize=(15, 10))  # Define the layout of subplots\n",
    "\n",
    "for i, column in enumerate(numerical_columns):\n",
    "    row = i // 3  # Calculate the row for the subplot\n",
    "    col = i % 3   # Calculate the column for the subplot\n",
    "    sb.histplot(data[column], kde=True, ax=axes[row, col])\n",
    "    axes[row, col].set_title(f'Histogram of {column}')\n",
    "    axes[row, col].set_xlabel(column)\n",
    "    axes[row, col].set_ylabel('Frequency')\n",
    "\n",
    "plt.tight_layout()  # Adjust layout to prevent overlapping\n",
    "plt.show()"
   ]
  },
  {
   "cell_type": "markdown",
   "metadata": {},
   "source": [
    "## Insight"
   ]
  },
  {
   "cell_type": "markdown",
   "metadata": {},
   "source": [
    "Here by seeing the graph, we can say that non of the graph is normally distributed\n",
    "- Actual_price, Discount_price, Discount_Offered, Ratings, No.of_ratings have right skewed data distribution\n",
    "because, we can observe that the frequency of the data is high in right hand side of graph \n"
   ]
  },
  {
   "cell_type": "code",
   "execution_count": null,
   "metadata": {},
   "outputs": [],
   "source": [
    "32+\n",
    "for column in numerical_columns:\n",
    "    print(f\"Statistics for {column}:\")\n",
    "    print(f\"Mean: {data[column].mean()}\")\n",
    "    print(f\"Median: {data[column].median()}\")\n",
    "    print(f\"Standard Deviation: {data[column].std()}\\n\")"
   ]
  },
  {
   "cell_type": "markdown",
   "metadata": {},
   "source": [
    "## Insight"
   ]
  },
  {
   "cell_type": "markdown",
   "metadata": {},
   "source": [
    "1) By using these statistical measures, we surely conclude that the data is distributes positive in the entire data set.\n",
    "2) Because we observe that mean value is greater than median \n",
    "3) According to positive skewness order of statistical measures\n",
    "   - mode< median< mean"
   ]
  },
  {
   "cell_type": "code",
   "execution_count": null,
   "metadata": {},
   "outputs": [],
   "source": [
    "import scipy.stats as stats"
   ]
  },
  {
   "cell_type": "code",
   "execution_count": null,
   "metadata": {},
   "outputs": [],
   "source": [
    "# Identify distribution types\n",
    "for column in numerical_columns:\n",
    "    print(f\"Distribution type for {column}: {stats.normaltest(data[column])}\")\n"
   ]
  },
  {
   "cell_type": "markdown",
   "metadata": {},
   "source": [
    "AS p_val is less than 0.05 we reject the null hypothesis.so the data doesnot follow a normal distribution in of these columns"
   ]
  },
  {
   "cell_type": "code",
   "execution_count": null,
   "metadata": {},
   "outputs": [],
   "source": [
    "data['normalized_ratings'] = data['ratings'].apply(lambda x: np.log(x) if x > 0 else 0)"
   ]
  },
  {
   "cell_type": "code",
   "execution_count": null,
   "metadata": {},
   "outputs": [],
   "source": [
    "print(f\"Distribution type for normalized_ratings: {stats.normaltest(data['normalized_ratings'])}\")"
   ]
  },
  {
   "cell_type": "code",
   "execution_count": null,
   "metadata": {},
   "outputs": [],
   "source": [
    "data['normalized_discount_price'] = data['discount_price'].apply(lambda x: np.log(x) if x > 0 else 0)"
   ]
  },
  {
   "cell_type": "code",
   "execution_count": null,
   "metadata": {},
   "outputs": [],
   "source": [
    "print(f\"Distribution type for normalized_ratings: {stats.normaltest(data['normalized_discount_price'])}\")"
   ]
  },
  {
   "cell_type": "markdown",
   "metadata": {},
   "source": [
    "---"
   ]
  },
  {
   "cell_type": "markdown",
   "metadata": {},
   "source": [
    "# <b>Hypothesis Testing"
   ]
  },
  {
   "cell_type": "code",
   "execution_count": null,
   "metadata": {},
   "outputs": [],
   "source": [
    "import scipy.stats as stats"
   ]
  },
  {
   "cell_type": "markdown",
   "metadata": {},
   "source": [
    "# 1. ANOVA TESTING"
   ]
  },
  {
   "cell_type": "markdown",
   "metadata": {},
   "source": [
    "The ANOVA (Analysis of Variance) test is a way to find out if survey or experiment results are significant"
   ]
  },
  {
   "cell_type": "markdown",
   "metadata": {},
   "source": [
    "### Outputs\n",
    "<b>F-statistics</b>: Ratio of the variance between the groups to the variance within the groups\n",
    "\n",
    "<b>P-value</b>: Probability of obtainging an F-statistic extreme than the observed value"
   ]
  },
  {
   "cell_type": "markdown",
   "metadata": {},
   "source": [
    "A comparison of average sales percentages across different main categories using ANOVA test.\n",
    "- we only get the result for \"Is there any significant differance betweeen each group\"\n",
    "- but we cant specify which two group differ from each other - for this we need to perform post hoc test"
   ]
  },
  {
   "cell_type": "markdown",
   "metadata": {},
   "source": [
    "### Assumptions"
   ]
  },
  {
   "cell_type": "markdown",
   "metadata": {},
   "source": [
    "- Null hypothesis: There’s no difference in the means of brands\n",
    "- Alternative hypothesis: Theres is a differnace in the means of brands"
   ]
  },
  {
   "cell_type": "code",
   "execution_count": null,
   "metadata": {},
   "outputs": [],
   "source": [
    "# Group the data by main category and calculate the mean sales percentage by each main category\n",
    "main_cat_groups = data.groupby('main_category')['sales_per'].mean()\n",
    "\n",
    "# Perform ANOVA test\n",
    "f_val, p_val = stats.f_oneway(*[data.loc[data['main_category'] == category, 'sales_per'] for category in main_cat_groups.index])\n",
    "#  \"*\" is used for unpacking the list of series into separate arguments \n",
    "# here we are only selecting the rows that is equal to category(loc used to select a subset of the dataframe based on certain condition)\n",
    "\n",
    "f_val, p_val"
   ]
  },
  {
   "cell_type": "markdown",
   "metadata": {},
   "source": [
    "Here we perform the one way ANOVA test, which tests the null hypothesis that two or more groups have the same populaltion mean."
   ]
  },
  {
   "cell_type": "code",
   "execution_count": null,
   "metadata": {},
   "outputs": [],
   "source": [
    "print(p_val)"
   ]
  },
  {
   "cell_type": "code",
   "execution_count": null,
   "metadata": {},
   "outputs": [],
   "source": [
    "if p_val<0.05:\n",
    "    print(\"reject null hypothesis\")\n",
    "else:\n",
    "    print(\"accept null hypothesis\")"
   ]
  },
  {
   "cell_type": "markdown",
   "metadata": {},
   "source": [
    "So , we conclude that there is a differance in the means of the main categories"
   ]
  },
  {
   "cell_type": "markdown",
   "metadata": {},
   "source": [
    "---"
   ]
  },
  {
   "cell_type": "markdown",
   "metadata": {},
   "source": [
    "## 2. T-TEST"
   ]
  },
  {
   "cell_type": "markdown",
   "metadata": {},
   "source": [
    " performing a two-sample t-test to compare the average discount offered on products between Brand A and Brand B"
   ]
  },
  {
   "cell_type": "code",
   "execution_count": null,
   "metadata": {},
   "outputs": [],
   "source": [
    "brand_list=list(data['Brand_Name'].unique())\n",
    "['Lloyd', 'LG', 'Carrier', 'Voltas', 'Daikin', 'Panasonic', 'Whirlpool', 'Samsung', 'Godrej', 'Blue', 'IFB', 'Cruise', 'AmazonBasics', 'Haier', 'Hitachi', 'Amazon', \n",
    " 'OGENERAL', 'Small', 'ALLWIN', 'Hexzone', 'Candy', 'O-General', 'ONIDA']\n",
    "# print(brand_list)\n",
    "print(\"Select any two from above\")\n",
    "Brand_A = input(\"Enter Brand A name(Check Capitals and small letters): \")\n",
    "Brand_B = input(\"Enter Brand B name(Check Capitals and small letters): \")\n",
    "\n",
    "if Brand_A in brand_list and Brand_B in brand_list:\n",
    "     brand_a_data = data[data['Brand_Name'] == Brand_A]\n",
    "     brand_b_data = data[data['Brand_Name'] == Brand_B]\n",
    "     \n",
    "     # Extract the discount offered for each brand\n",
    "     discount_offered_a = brand_a_data['Discount_Offered']\n",
    "     discount_offered_b = brand_b_data['Discount_Offered']\n",
    "     \n",
    "     # Perform the two-sample t-test\n",
    "     t_statistic, p_value =stats.ttest_ind(discount_offered_a, discount_offered_b)\n",
    "     \n",
    "     # Print the results\n",
    "     print('t-statistic:', t_statistic)\n",
    "     print('p-value:', p_value)\n",
    "     \n",
    "     # Interpret the results\n",
    "     if p_value < 0.05:\n",
    "         print('There is a significant difference in the average discount offered on products between Brand A ({}) and Brand B ({}).'.format(Brand_A, Brand_B))\n",
    "     else:\n",
    "         print('There is no significant difference in the average discount offered on products between Brand A ({}) and Brand B ({}).'.format(Brand_A, Brand_B))\n",
    "     \n",
    "\n",
    "else:\n",
    "    print(\"Give the brand names correctly, please go throught the list once again\")\n"
   ]
  },
  {
   "cell_type": "markdown",
   "metadata": {},
   "source": [
    "### Conclusion \n",
    "- if the p_val is lessthan 0.05 then \n",
    "  - statistically, the two brands offer similar discounts on their products\n",
    "- else \n",
    "  - statistically, the two brands does not offer similar discounts on their products\n"
   ]
  },
  {
   "cell_type": "markdown",
   "metadata": {},
   "source": [
    "---"
   ]
  },
  {
   "cell_type": "markdown",
   "metadata": {},
   "source": [
    "# 3. PEARSON CORRELATION"
   ]
  },
  {
   "cell_type": "code",
   "execution_count": null,
   "metadata": {},
   "outputs": [],
   "source": [
    "# Perform the Pearson correlation test\n",
    "correlation_coefficient, p_value = stats.pearsonr(data['sales_per'], data['no_of_ratings'])\n",
    "\n",
    "# Print the results\n",
    "print('Correlation coefficient:', correlation_coefficient)\n",
    "print('p-value:', p_value)\n",
    "\n",
    "if abs(correlation_coefficient) > 0.3 and p_value < 0.05:\n",
    "    print('There is a weak to moderate significant relationship between the average sales percentage product and the number of ratings a product has.')\n",
    "elif abs(correlation_coefficient) > 0.5 and p_value < 0.05:\n",
    "    print('There is a moderate to strong significant relationship between the average sales percentage product and the number of ratings a product has.')\n",
    "elif abs(correlation_coefficient) > 0.8 and p_value < 0.05:\n",
    "    print('There is a strong significant relationship between the average sales percentage product and the number of ratings a product has.')\n",
    "else:\n",
    "    print('There is no significant relationship between the average sales percentage product and the number of ratings a product has.')\n"
   ]
  },
  {
   "cell_type": "markdown",
   "metadata": {},
   "source": [
    "The correlation coefficient measures the strength and direction of the linear relationship between two variables\n",
    "- -0.016 indicate a very weak correlation is statistically significant"
   ]
  },
  {
   "cell_type": "markdown",
   "metadata": {},
   "source": [
    "---"
   ]
  },
  {
   "cell_type": "markdown",
   "metadata": {},
   "source": [
    "# CENTRAL LIMIT THEOREM"
   ]
  },
  {
   "cell_type": "code",
   "execution_count": null,
   "metadata": {},
   "outputs": [],
   "source": [
    "df= data[['ratings']]\n",
    "df "
   ]
  },
  {
   "cell_type": "code",
   "execution_count": null,
   "metadata": {},
   "outputs": [],
   "source": [
    "sb.displot(df.ratings,kde=True)\n",
    "plt.show()"
   ]
  },
  {
   "cell_type": "markdown",
   "metadata": {},
   "source": [
    "## Population Mean"
   ]
  },
  {
   "cell_type": "code",
   "execution_count": null,
   "metadata": {},
   "outputs": [],
   "source": [
    "df.ratings.mean()"
   ]
  },
  {
   "cell_type": "markdown",
   "metadata": {},
   "source": [
    "This is the true mean weight of the population. This is the population parameter, the ground truth.  \n",
    "\n",
    "Let's take a random sample from this data, and see what mean we get."
   ]
  },
  {
   "cell_type": "markdown",
   "metadata": {},
   "source": [
    "## Sample Mean"
   ]
  },
  {
   "cell_type": "code",
   "execution_count": null,
   "metadata": {},
   "outputs": [],
   "source": [
    "sample_size= 30\n"
   ]
  },
  {
   "cell_type": "code",
   "execution_count": null,
   "metadata": {},
   "outputs": [],
   "source": [
    "df.ratings.sample(sample_size).mean()"
   ]
  },
  {
   "cell_type": "markdown",
   "metadata": {},
   "source": [
    "Slight different from the population mean, right?  \n",
    "Let's take another sample."
   ]
  },
  {
   "cell_type": "code",
   "execution_count": null,
   "metadata": {},
   "outputs": [],
   "source": [
    "df.ratings.sample(sample_size).mean()"
   ]
  },
  {
   "cell_type": "code",
   "execution_count": null,
   "metadata": {},
   "outputs": [],
   "source": [
    "df.ratings.sample(sample_size).mean()"
   ]
  },
  {
   "cell_type": "markdown",
   "metadata": {},
   "source": [
    "Each time we take a sample, our mean value is different. There is variability in the sample mean itself. Does the sample mean itself follow a distribution? Let's assess this.   \n",
    "We'll take many samples from the data, and plot a histogram of the same."
   ]
  },
  {
   "cell_type": "code",
   "execution_count": null,
   "metadata": {},
   "outputs": [],
   "source": [
    "sample_means = [df.ratings.sample(sample_size).mean() for i in range(1000)]\n",
    "sample_means = pd.Series(sample_means)"
   ]
  },
  {
   "cell_type": "code",
   "execution_count": null,
   "metadata": {},
   "outputs": [],
   "source": [
    "sb.distplot(sample_means)\n",
    "plt.show()"
   ]
  },
  {
   "cell_type": "code",
   "execution_count": null,
   "metadata": {},
   "outputs": [],
   "source": [
    "sb.displot(sample_means,kde=True)\n",
    "plt.show()"
   ]
  },
  {
   "cell_type": "markdown",
   "metadata": {},
   "source": [
    "It is a distribution of sample means, which is a histogram with a Kernel Density Estimate (KDE) overlay. This type of distribution is known as a Sampling Distribution. \n",
    "\n",
    "From the plot, it appears that the distribution of sample means follows a **Normal Distribution** (also known as a Gaussian Distribution), which is characterized by its bell shape and symmetry around the mean. This is in line with the **Central Limit Theorem**, which states that the distribution of sample means will approximate a normal distribution as the sample size becomes large, regardless of the shape of the population distribution. \n",
    "\n",
    "The mean of this distribution is approximately **3.75**, which is the peak of the bell curve. This suggests that the average rating across all samples is around 3.75. The spread of the distribution gives us an idea about the variability of the ratings. The narrower the bell curve, the less variability there is in the ratings."
   ]
  },
  {
   "cell_type": "markdown",
   "metadata": {},
   "source": [
    "## Mean of the sample means"
   ]
  },
  {
   "cell_type": "code",
   "execution_count": null,
   "metadata": {},
   "outputs": [],
   "source": [
    "sample_means.mean()"
   ]
  },
  {
   "cell_type": "markdown",
   "metadata": {},
   "source": [
    "## Standard deviation of your sample means"
   ]
  },
  {
   "cell_type": "code",
   "execution_count": null,
   "metadata": {},
   "outputs": [],
   "source": [
    "sample_means.std()"
   ]
  },
  {
   "cell_type": "markdown",
   "metadata": {},
   "source": [
    "## standard error of the population"
   ]
  },
  {
   "cell_type": "markdown",
   "metadata": {},
   "source": [
    "Population std vs. std of sampling mean"
   ]
  },
  {
   "cell_type": "code",
   "execution_count": null,
   "metadata": {},
   "outputs": [],
   "source": [
    "df.ratings.std()/np.sqrt(sample_size)"
   ]
  },
  {
   "cell_type": "markdown",
   "metadata": {},
   "source": [
    "## CONCLUSION"
   ]
  },
  {
   "cell_type": "markdown",
   "metadata": {},
   "source": [
    " - The values were very close, which supports the CLT. This implies that the sample means provide a good estimate of the population mean, and the spread of the sample means around this estimate is captured by the standard deviation of the sample means (or equivalently, the standard error of the population).\n",
    "\n",
    " - The analysis provides evidence that the ‘ratings’ data is well-behaved and suitable for statistical inference"
   ]
  }
 ],
 "metadata": {
  "kernelspec": {
   "display_name": "Python 3 (ipykernel)",
   "language": "python",
   "name": "python3"
  },
  "language_info": {
   "codemirror_mode": {
    "name": "ipython",
    "version": 3
   },
   "file_extension": ".py",
   "mimetype": "text/x-python",
   "name": "python",
   "nbconvert_exporter": "python",
   "pygments_lexer": "ipython3",
   "version": "3.13.1"
  }
 },
 "nbformat": 4,
 "nbformat_minor": 4
}
